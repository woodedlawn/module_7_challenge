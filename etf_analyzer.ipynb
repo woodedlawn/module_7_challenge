{
 "cells": [
  {
   "cell_type": "markdown",
   "metadata": {},
   "source": [
    "# Create a Web Application for an ETF Analyzer\n",
    "\n",
    "In this Challenge assignment, you’ll build a financial database and web application by using SQL, Python, and the Voilà library to analyze the performance of a hypothetical fintech ETF.\n",
    "\n",
    "Instructions: \n",
    "\n",
    "Use this notebook to complete your analysis of a fintech ETF that consists of four stocks: GOST, GS, PYPL, and SQ. Each stock has its own table in the `etf.db` database, which the `Starter_Code` folder also contains.\n",
    "\n",
    "Analyze the daily returns of the ETF stocks both individually and as a whole. Then deploy the visualizations to a web application by using the Voilà library.\n",
    "\n",
    "The detailed instructions are divided into the following parts:\n",
    "\n",
    "* Analyze a single asset in the ETF\n",
    "\n",
    "* Optimize data access with Advanced SQL queries\n",
    "\n",
    "* Analyze the ETF portfolio\n",
    "\n",
    "* Deploy the notebook as a web application\n",
    "\n",
    "#### Analyze a Single Asset in the ETF\n",
    "\n",
    "For this part of the assignment, you’ll use SQL queries with Python, Pandas, and hvPlot to analyze the performance of a single asset from the ETF.\n",
    "\n",
    "Complete the following steps:\n",
    "\n",
    "1. Write a SQL `SELECT` statement by using an f-string that reads all the PYPL data from the database. Using the SQL `SELECT` statement, execute a query that reads the PYPL data from the database into a Pandas DataFrame.\n",
    "\n",
    "2. Use the `head` and `tail` functions to review the first five and the last five rows of the DataFrame. Make a note of the beginning and end dates that are available from this dataset. You’ll use this information to complete your analysis.\n",
    "\n",
    "3. Using hvPlot, create an interactive visualization for the PYPL daily returns. Reflect the “time” column of the DataFrame on the x-axis. Make sure that you professionally style and format your visualization to enhance its readability.\n",
    "\n",
    "4. Using hvPlot, create an interactive visualization for the PYPL cumulative returns. Reflect the “time” column of the DataFrame on the x-axis. Make sure that you professionally style and format your visualization to enhance its readability.\n",
    "\n",
    "#### Optimize Data Access with Advanced SQL Queries\n",
    "\n",
    "For this part of the assignment, you’ll continue to analyze a single asset (PYPL) from the ETF. You’ll use advanced SQL queries to optimize the efficiency of accessing data from the database.\n",
    "\n",
    "Complete the following steps:\n",
    "\n",
    "1. Access the closing prices for PYPL that are greater than 200 by completing the following steps:\n",
    "\n",
    "    - Write a SQL `SELECT` statement to select the dates where the PYPL closing price was higher than 200.0.\n",
    "\n",
    "    - Using the SQL statement, read the data from the database into a Pandas DataFrame, and then review the resulting DataFrame.\n",
    "\n",
    "    - Select the “time” and “close” columns for those dates where the closing price was higher than 200.0.\n",
    "\n",
    "2. Find the top 10 daily returns for PYPL by completing the following steps:\n",
    "\n",
    "    -  Write a SQL statement to find the top 10 PYPL daily returns. Make sure to do the following:\n",
    "\n",
    "        * Use `SELECT` to select only the “time” and “daily_returns” columns.\n",
    "\n",
    "        * Use `ORDER` to sort the results in descending order by the “daily_returns” column.\n",
    "\n",
    "        * Use `LIMIT` to limit the results to the top 10 daily return values.\n",
    "\n",
    "    - Using the SQL statement, read the data from the database into a Pandas DataFrame, and then review the resulting DataFrame.\n",
    "\n",
    "#### Analyze the ETF Portfolio\n",
    "\n",
    "For this part of the assignment, you’ll build the entire ETF portfolio and then evaluate its performance. To do so, you’ll build the ETF portfolio by using SQL joins to combine all the data for each asset.\n",
    "\n",
    "Complete the following steps:\n",
    "\n",
    "1. Write a SQL query to join each table in the portfolio into a single DataFrame. To do so, complete the following steps:\n",
    "\n",
    "    - Use a SQL inner join to join each table on the “time” column. Access the “time” column in the `GDOT` table via the `GDOT.time` syntax. Access the “time” columns from the other tables via similar syntax.\n",
    "\n",
    "    - Using the SQL query, read the data from the database into a Pandas DataFrame. Review the resulting DataFrame.\n",
    "\n",
    "2. Create a DataFrame that averages the “daily_returns” columns for all four assets. Review the resulting DataFrame.\n",
    "\n",
    "    > **Hint** Assuming that this ETF contains equally weighted returns, you can average the returns for each asset to get the average returns of the portfolio. You can then use the average returns of the portfolio to calculate the annualized returns and the cumulative returns. For the calculation to get the average daily returns for the portfolio, use the following code:\n",
    "    >\n",
    "    > ```python\n",
    "    > etf_portfolio_returns = etf_portfolio['daily_returns'].mean(axis=1)\n",
    "    > ```\n",
    "    >\n",
    "    > You can use the average daily returns of the portfolio the same way that you used the daily returns of a single asset.\n",
    "\n",
    "3. Use the average daily returns in the `etf_portfolio_returns` DataFrame to calculate the annualized returns for the portfolio. Display the annualized return value of the ETF portfolio.\n",
    "\n",
    "> **Hint**  To calculate the annualized returns, multiply the mean of the `etf_portfolio_returns` values by 252.\n",
    ">\n",
    "> To convert the decimal values to percentages, multiply the results by 100.\n",
    "\n",
    "4. Use the average daily returns in the `etf_portfolio_returns` DataFrame to calculate the cumulative returns of the ETF portfolio.\n",
    "\n",
    "5. Using hvPlot, create an interactive line plot that visualizes the cumulative return values of the ETF portfolio. Reflect the “time” column of the DataFrame on the x-axis. Make sure that you professionally style and format your visualization to enhance its readability.\n",
    "\n",
    "#### Deploy the Notebook as a Web Application\n",
    "\n",
    "For this part of the assignment, complete the following steps:\n",
    "\n",
    "1. Use the Voilà library to deploy your notebook as a web application. You can deploy the web application locally on your computer.\n",
    "\n",
    "2. Take a screen recording or screenshots to show how the web application appears when using Voilà. Include the recording or screenshots in the `README.md` file for your GitHub repository.\n"
   ]
  },
  {
   "cell_type": "markdown",
   "metadata": {},
   "source": [
    "## Review the following code which imports the required libraries, initiates your SQLite database, popluates the database with records from the `etf.db` seed file that was included in your Starter_Code folder, creates the database engine, and confirms that data tables that it now contains."
   ]
  },
  {
   "cell_type": "code",
   "execution_count": 28,
   "metadata": {},
   "outputs": [
    {
     "data": {
      "text/plain": [
       "['GDOT', 'GS', 'PYPL', 'SQ']"
      ]
     },
     "execution_count": 28,
     "metadata": {},
     "output_type": "execute_result"
    }
   ],
   "source": [
    "# Importing the required libraries and dependencies\n",
    "import numpy as np\n",
    "import pandas as pd\n",
    "import hvplot.pandas\n",
    "import sqlalchemy\n",
    "\n",
    "# Create a temporary SQLite database and populate the database with content from the etf.db seed file\n",
    "database_connection_string = 'sqlite:///etf.db'\n",
    "\n",
    "# Create an engine to interact with the SQLite database\n",
    "engine = sqlalchemy.create_engine(database_connection_string)\n",
    "\n",
    "# Confirm that table names contained in the SQLite database.\n",
    "sqlalchemy.inspect(engine).get_table_names()"
   ]
  },
  {
   "cell_type": "markdown",
   "metadata": {},
   "source": [
    "## Analyze a single asset in the FinTech ETF\n",
    "\n",
    "For this part of the assignment, you’ll use SQL queries with Python, Pandas, and hvPlot to analyze the performance of a single asset from the ETF.\n",
    "\n",
    "Complete the following steps:\n",
    "\n",
    "1. Write a SQL `SELECT` statement by using an f-string that reads all the PYPL data from the database. Using the SQL `SELECT` statement, execute a query that reads the PYPL data from the database into a Pandas DataFrame.\n",
    "\n",
    "2. Use the `head` and `tail` functions to review the first five and the last five rows of the DataFrame. Make a note of the beginning and end dates that are available from this dataset. You’ll use this information to complete your analysis.\n",
    "\n",
    "3. Using hvPlot, create an interactive visualization for the PYPL daily returns. Reflect the “time” column of the DataFrame on the x-axis. Make sure that you professionally style and format your visualization to enhance its readability.\n",
    "\n",
    "4. Using hvPlot, create an interactive visualization for the PYPL cumulative returns. Reflect the “time” column of the DataFrame on the x-axis. Make sure that you professionally style and format your visualization to enhance its readability.\n",
    "\n"
   ]
  },
  {
   "cell_type": "markdown",
   "metadata": {},
   "source": [
    "### Step 1: Write a SQL `SELECT` statement by using an f-string that reads all the PYPL data from the database. Using the SQL `SELECT` statement, execute a query that reads the PYPL data from the database into a Pandas DataFrame."
   ]
  },
  {
   "cell_type": "code",
   "execution_count": 29,
   "metadata": {},
   "outputs": [],
   "source": [
    "# Write a SQL query to SELECT all of the data from the PYPL table\n",
    "query = \"\"\"\n",
    "    SELECT *\n",
    "    FROM PYPL\n",
    "\"\"\"\n",
    "\n",
    "# Use the query to read the PYPL data into a Pandas DataFrame\n",
    "pypl_dataframe = pd.read_sql_query(query, engine, index_col='time', parse_dates=['time'])"
   ]
  },
  {
   "cell_type": "markdown",
   "metadata": {},
   "source": [
    "### Step 2: Use the `head` and `tail` functions to review the first five and the last five rows of the DataFrame. Make a note of the beginning and end dates that are available from this dataset. You’ll use this information to complete your analysis."
   ]
  },
  {
   "cell_type": "code",
   "execution_count": 30,
   "metadata": {},
   "outputs": [
    {
     "data": {
      "text/html": [
       "<div>\n",
       "<style scoped>\n",
       "    .dataframe tbody tr th:only-of-type {\n",
       "        vertical-align: middle;\n",
       "    }\n",
       "\n",
       "    .dataframe tbody tr th {\n",
       "        vertical-align: top;\n",
       "    }\n",
       "\n",
       "    .dataframe thead th {\n",
       "        text-align: right;\n",
       "    }\n",
       "</style>\n",
       "<table border=\"1\" class=\"dataframe\">\n",
       "  <thead>\n",
       "    <tr style=\"text-align: right;\">\n",
       "      <th></th>\n",
       "      <th>open</th>\n",
       "      <th>high</th>\n",
       "      <th>low</th>\n",
       "      <th>close</th>\n",
       "      <th>volume</th>\n",
       "      <th>daily_returns</th>\n",
       "    </tr>\n",
       "    <tr>\n",
       "      <th>time</th>\n",
       "      <th></th>\n",
       "      <th></th>\n",
       "      <th></th>\n",
       "      <th></th>\n",
       "      <th></th>\n",
       "      <th></th>\n",
       "    </tr>\n",
       "  </thead>\n",
       "  <tbody>\n",
       "    <tr>\n",
       "      <th>2016-12-16</th>\n",
       "      <td>39.90</td>\n",
       "      <td>39.90</td>\n",
       "      <td>39.12</td>\n",
       "      <td>39.32</td>\n",
       "      <td>7298861</td>\n",
       "      <td>-0.005564</td>\n",
       "    </tr>\n",
       "    <tr>\n",
       "      <th>2016-12-19</th>\n",
       "      <td>39.40</td>\n",
       "      <td>39.80</td>\n",
       "      <td>39.11</td>\n",
       "      <td>39.45</td>\n",
       "      <td>3436478</td>\n",
       "      <td>0.003306</td>\n",
       "    </tr>\n",
       "    <tr>\n",
       "      <th>2016-12-20</th>\n",
       "      <td>39.61</td>\n",
       "      <td>39.74</td>\n",
       "      <td>39.26</td>\n",
       "      <td>39.74</td>\n",
       "      <td>2940991</td>\n",
       "      <td>0.007351</td>\n",
       "    </tr>\n",
       "    <tr>\n",
       "      <th>2016-12-21</th>\n",
       "      <td>39.84</td>\n",
       "      <td>40.74</td>\n",
       "      <td>39.82</td>\n",
       "      <td>40.09</td>\n",
       "      <td>5826704</td>\n",
       "      <td>0.008807</td>\n",
       "    </tr>\n",
       "    <tr>\n",
       "      <th>2016-12-22</th>\n",
       "      <td>40.04</td>\n",
       "      <td>40.09</td>\n",
       "      <td>39.54</td>\n",
       "      <td>39.68</td>\n",
       "      <td>4338385</td>\n",
       "      <td>-0.010227</td>\n",
       "    </tr>\n",
       "  </tbody>\n",
       "</table>\n",
       "</div>"
      ],
      "text/plain": [
       "             open   high    low  close   volume  daily_returns\n",
       "time                                                          \n",
       "2016-12-16  39.90  39.90  39.12  39.32  7298861      -0.005564\n",
       "2016-12-19  39.40  39.80  39.11  39.45  3436478       0.003306\n",
       "2016-12-20  39.61  39.74  39.26  39.74  2940991       0.007351\n",
       "2016-12-21  39.84  40.74  39.82  40.09  5826704       0.008807\n",
       "2016-12-22  40.04  40.09  39.54  39.68  4338385      -0.010227"
      ]
     },
     "execution_count": 30,
     "metadata": {},
     "output_type": "execute_result"
    }
   ],
   "source": [
    "# View the first 5 rows of the DataFrame.\n",
    "pypl_dataframe.head()"
   ]
  },
  {
   "cell_type": "code",
   "execution_count": 31,
   "metadata": {},
   "outputs": [
    {
     "data": {
      "text/html": [
       "<div>\n",
       "<style scoped>\n",
       "    .dataframe tbody tr th:only-of-type {\n",
       "        vertical-align: middle;\n",
       "    }\n",
       "\n",
       "    .dataframe tbody tr th {\n",
       "        vertical-align: top;\n",
       "    }\n",
       "\n",
       "    .dataframe thead th {\n",
       "        text-align: right;\n",
       "    }\n",
       "</style>\n",
       "<table border=\"1\" class=\"dataframe\">\n",
       "  <thead>\n",
       "    <tr style=\"text-align: right;\">\n",
       "      <th></th>\n",
       "      <th>open</th>\n",
       "      <th>high</th>\n",
       "      <th>low</th>\n",
       "      <th>close</th>\n",
       "      <th>volume</th>\n",
       "      <th>daily_returns</th>\n",
       "    </tr>\n",
       "    <tr>\n",
       "      <th>time</th>\n",
       "      <th></th>\n",
       "      <th></th>\n",
       "      <th></th>\n",
       "      <th></th>\n",
       "      <th></th>\n",
       "      <th></th>\n",
       "    </tr>\n",
       "  </thead>\n",
       "  <tbody>\n",
       "    <tr>\n",
       "      <th>2020-11-30</th>\n",
       "      <td>212.51</td>\n",
       "      <td>215.83</td>\n",
       "      <td>207.0900</td>\n",
       "      <td>214.200</td>\n",
       "      <td>8992681</td>\n",
       "      <td>0.013629</td>\n",
       "    </tr>\n",
       "    <tr>\n",
       "      <th>2020-12-01</th>\n",
       "      <td>217.15</td>\n",
       "      <td>220.57</td>\n",
       "      <td>214.3401</td>\n",
       "      <td>216.520</td>\n",
       "      <td>9148174</td>\n",
       "      <td>0.010831</td>\n",
       "    </tr>\n",
       "    <tr>\n",
       "      <th>2020-12-02</th>\n",
       "      <td>215.60</td>\n",
       "      <td>215.75</td>\n",
       "      <td>210.5000</td>\n",
       "      <td>212.660</td>\n",
       "      <td>6414746</td>\n",
       "      <td>-0.017827</td>\n",
       "    </tr>\n",
       "    <tr>\n",
       "      <th>2020-12-03</th>\n",
       "      <td>213.33</td>\n",
       "      <td>216.93</td>\n",
       "      <td>213.1100</td>\n",
       "      <td>214.680</td>\n",
       "      <td>6463339</td>\n",
       "      <td>0.009499</td>\n",
       "    </tr>\n",
       "    <tr>\n",
       "      <th>2020-12-04</th>\n",
       "      <td>214.88</td>\n",
       "      <td>217.28</td>\n",
       "      <td>213.0100</td>\n",
       "      <td>217.235</td>\n",
       "      <td>2118319</td>\n",
       "      <td>0.011901</td>\n",
       "    </tr>\n",
       "  </tbody>\n",
       "</table>\n",
       "</div>"
      ],
      "text/plain": [
       "              open    high       low    close   volume  daily_returns\n",
       "time                                                                 \n",
       "2020-11-30  212.51  215.83  207.0900  214.200  8992681       0.013629\n",
       "2020-12-01  217.15  220.57  214.3401  216.520  9148174       0.010831\n",
       "2020-12-02  215.60  215.75  210.5000  212.660  6414746      -0.017827\n",
       "2020-12-03  213.33  216.93  213.1100  214.680  6463339       0.009499\n",
       "2020-12-04  214.88  217.28  213.0100  217.235  2118319       0.011901"
      ]
     },
     "execution_count": 31,
     "metadata": {},
     "output_type": "execute_result"
    }
   ],
   "source": [
    "# View the last 5 rows of the DataFrame.\n",
    "pypl_dataframe.tail()"
   ]
  },
  {
   "cell_type": "markdown",
   "metadata": {},
   "source": [
    "### Step 3: Using hvPlot, create an interactive visualization for the PYPL daily returns. Reflect the “time” column of the DataFrame on the x-axis. Make sure that you professionally style and format your visualization to enhance its readability."
   ]
  },
  {
   "cell_type": "code",
   "execution_count": 101,
   "metadata": {},
   "outputs": [
    {
     "data": {},
     "metadata": {},
     "output_type": "display_data"
    },
    {
     "data": {
      "application/vnd.holoviews_exec.v0+json": "",
      "text/html": [
       "<div id='3474'>\n",
       "\n",
       "\n",
       "\n",
       "\n",
       "\n",
       "  <div class=\"bk-root\" id=\"bae38434-65aa-4b4a-8c7a-a1b1c7313b23\" data-root-id=\"3474\"></div>\n",
       "</div>\n",
       "<script type=\"application/javascript\">(function(root) {\n",
       "  function embed_document(root) {\n",
       "    var docs_json = {\"5ec0596d-3490-47f8-b17d-2e7dfbc3e2a5\":{\"defs\":[{\"extends\":null,\"module\":null,\"name\":\"ReactiveHTML1\",\"overrides\":[],\"properties\":[]},{\"extends\":null,\"module\":null,\"name\":\"FlexBox1\",\"overrides\":[],\"properties\":[{\"default\":\"flex-start\",\"kind\":null,\"name\":\"align_content\"},{\"default\":\"flex-start\",\"kind\":null,\"name\":\"align_items\"},{\"default\":\"row\",\"kind\":null,\"name\":\"flex_direction\"},{\"default\":\"wrap\",\"kind\":null,\"name\":\"flex_wrap\"},{\"default\":\"flex-start\",\"kind\":null,\"name\":\"justify_content\"}]},{\"extends\":null,\"module\":null,\"name\":\"TemplateActions1\",\"overrides\":[],\"properties\":[{\"default\":0,\"kind\":null,\"name\":\"open_modal\"},{\"default\":0,\"kind\":null,\"name\":\"close_modal\"}]},{\"extends\":null,\"module\":null,\"name\":\"MaterialTemplateActions1\",\"overrides\":[],\"properties\":[{\"default\":0,\"kind\":null,\"name\":\"open_modal\"},{\"default\":0,\"kind\":null,\"name\":\"close_modal\"}]}],\"roots\":{\"references\":[{\"attributes\":{\"axis\":{\"id\":\"3492\"},\"dimension\":1,\"grid_line_color\":null,\"ticker\":null},\"id\":\"3495\",\"type\":\"Grid\"},{\"attributes\":{},\"id\":\"3493\",\"type\":\"BasicTicker\"},{\"attributes\":{\"line_color\":\"#30a2da\",\"line_width\":2,\"x\":{\"field\":\"time\"},\"y\":{\"field\":\"daily_returns\"}},\"id\":\"3512\",\"type\":\"Line\"},{\"attributes\":{\"mantissas\":[1,2,5],\"max_interval\":500.0,\"num_minor_ticks\":0},\"id\":\"3531\",\"type\":\"AdaptiveTicker\"},{\"attributes\":{\"months\":[0,4,8]},\"id\":\"3540\",\"type\":\"MonthsTicker\"},{\"attributes\":{\"months\":[0,2,4,6,8,10]},\"id\":\"3539\",\"type\":\"MonthsTicker\"},{\"attributes\":{\"data_source\":{\"id\":\"3509\"},\"glyph\":{\"id\":\"3512\"},\"hover_glyph\":null,\"muted_glyph\":{\"id\":\"3514\"},\"nonselection_glyph\":{\"id\":\"3513\"},\"selection_glyph\":{\"id\":\"3517\"},\"view\":{\"id\":\"3516\"}},\"id\":\"3515\",\"type\":\"GlyphRenderer\"},{\"attributes\":{\"data\":{\"daily_returns\":{\"__ndarray__\":\"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\",\"dtype\":\"float64\",\"order\":\"little\",\"shape\":[999]},\"time\":{\"__ndarray__\":\"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\",\"dtype\":\"float64\",\"order\":\"little\",\"shape\":[999]}},\"selected\":{\"id\":\"3510\"},\"selection_policy\":{\"id\":\"3544\"}},\"id\":\"3509\",\"type\":\"ColumnDataSource\"},{\"attributes\":{\"bottom_units\":\"screen\",\"fill_alpha\":0.5,\"fill_color\":\"lightgrey\",\"left_units\":\"screen\",\"level\":\"overlay\",\"line_alpha\":1.0,\"line_color\":\"black\",\"line_dash\":[4,4],\"line_width\":2,\"right_units\":\"screen\",\"syncable\":false,\"top_units\":\"screen\"},\"id\":\"3501\",\"type\":\"BoxAnnotation\"},{\"attributes\":{},\"id\":\"3521\",\"type\":\"AllLabels\"},{\"attributes\":{\"source\":{\"id\":\"3509\"}},\"id\":\"3516\",\"type\":\"CDSView\"},{\"attributes\":{\"line_color\":\"#30a2da\",\"line_width\":2,\"x\":{\"field\":\"time\"},\"y\":{\"field\":\"daily_returns\"}},\"id\":\"3517\",\"type\":\"Line\"},{\"attributes\":{\"text\":\"PYPL Daily Returns\",\"text_color\":\"black\",\"text_font_size\":\"12pt\"},\"id\":\"3480\",\"type\":\"Title\"},{\"attributes\":{\"base\":24,\"mantissas\":[1,2,4,6,8,12],\"max_interval\":43200000.0,\"min_interval\":3600000.0,\"num_minor_ticks\":0},\"id\":\"3533\",\"type\":\"AdaptiveTicker\"},{\"attributes\":{\"active_multi\":null,\"tools\":[{\"id\":\"3478\"},{\"id\":\"3496\"},{\"id\":\"3497\"},{\"id\":\"3498\"},{\"id\":\"3499\"},{\"id\":\"3500\"}]},\"id\":\"3502\",\"type\":\"Toolbar\"},{\"attributes\":{\"base\":60,\"mantissas\":[1,2,5,10,15,20,30],\"max_interval\":1800000.0,\"min_interval\":1000.0,\"num_minor_ticks\":0},\"id\":\"3532\",\"type\":\"AdaptiveTicker\"},{\"attributes\":{\"axis_label\":\"Daily Return\",\"formatter\":{\"id\":\"3522\"},\"major_label_policy\":{\"id\":\"3521\"},\"ticker\":{\"id\":\"3493\"}},\"id\":\"3492\",\"type\":\"LinearAxis\"},{\"attributes\":{},\"id\":\"3496\",\"type\":\"SaveTool\"},{\"attributes\":{\"callback\":null,\"formatters\":{\"@{time}\":\"datetime\"},\"renderers\":[{\"id\":\"3515\"}],\"tags\":[\"hv_created\"],\"tooltips\":[[\"time\",\"@{time}{%F %T}\"],[\"daily_returns\",\"@{daily_returns}\"]]},\"id\":\"3478\",\"type\":\"HoverTool\"},{\"attributes\":{},\"id\":\"3497\",\"type\":\"PanTool\"},{\"attributes\":{\"days\":[1,2,3,4,5,6,7,8,9,10,11,12,13,14,15,16,17,18,19,20,21,22,23,24,25,26,27,28,29,30,31]},\"id\":\"3534\",\"type\":\"DaysTicker\"},{\"attributes\":{\"axis\":{\"id\":\"3488\"},\"grid_line_color\":null,\"ticker\":null},\"id\":\"3491\",\"type\":\"Grid\"},{\"attributes\":{\"end\":1607040000000.0,\"reset_end\":1607040000000.0,\"reset_start\":1481846400000.0,\"start\":1481846400000.0,\"tags\":[[[\"time\",\"time\",null]]]},\"id\":\"3476\",\"type\":\"Range1d\"},{\"attributes\":{\"line_alpha\":0.2,\"line_color\":\"#30a2da\",\"line_width\":2,\"x\":{\"field\":\"time\"},\"y\":{\"field\":\"daily_returns\"}},\"id\":\"3514\",\"type\":\"Line\"},{\"attributes\":{},\"id\":\"3498\",\"type\":\"WheelZoomTool\"},{\"attributes\":{\"days\":[1,4,7,10,13,16,19,22,25,28]},\"id\":\"3535\",\"type\":\"DaysTicker\"},{\"attributes\":{},\"id\":\"3510\",\"type\":\"Selection\"},{\"attributes\":{\"end\":0.1715458661010297,\"reset_end\":0.1715458661010297,\"reset_start\":-0.19523816539422575,\"start\":-0.19523816539422575,\"tags\":[[[\"daily_returns\",\"daily_returns\",null]]]},\"id\":\"3477\",\"type\":\"Range1d\"},{\"attributes\":{},\"id\":\"3518\",\"type\":\"AllLabels\"},{\"attributes\":{\"overlay\":{\"id\":\"3501\"}},\"id\":\"3499\",\"type\":\"BoxZoomTool\"},{\"attributes\":{\"days\":[1,8,15,22]},\"id\":\"3536\",\"type\":\"DaysTicker\"},{\"attributes\":{\"days\":[1,15]},\"id\":\"3537\",\"type\":\"DaysTicker\"},{\"attributes\":{},\"id\":\"3519\",\"type\":\"DatetimeTickFormatter\"},{\"attributes\":{\"line_alpha\":0.1,\"line_color\":\"#30a2da\",\"line_width\":2,\"x\":{\"field\":\"time\"},\"y\":{\"field\":\"daily_returns\"}},\"id\":\"3513\",\"type\":\"Line\"},{\"attributes\":{},\"id\":\"3522\",\"type\":\"BasicTickFormatter\"},{\"attributes\":{\"months\":[0,1,2,3,4,5,6,7,8,9,10,11]},\"id\":\"3538\",\"type\":\"MonthsTicker\"},{\"attributes\":{},\"id\":\"3486\",\"type\":\"LinearScale\"},{\"attributes\":{},\"id\":\"3500\",\"type\":\"ResetTool\"},{\"attributes\":{\"below\":[{\"id\":\"3488\"}],\"center\":[{\"id\":\"3491\"},{\"id\":\"3495\"}],\"height\":300,\"left\":[{\"id\":\"3492\"}],\"margin\":[5,5,5,5],\"min_border_bottom\":10,\"min_border_left\":10,\"min_border_right\":10,\"min_border_top\":10,\"renderers\":[{\"id\":\"3515\"}],\"sizing_mode\":\"fixed\",\"title\":{\"id\":\"3480\"},\"toolbar\":{\"id\":\"3502\"},\"width\":700,\"x_range\":{\"id\":\"3476\"},\"x_scale\":{\"id\":\"3484\"},\"y_range\":{\"id\":\"3477\"},\"y_scale\":{\"id\":\"3486\"}},\"id\":\"3479\",\"subtype\":\"Figure\",\"type\":\"Plot\"},{\"attributes\":{\"children\":[{\"id\":\"3475\"},{\"id\":\"3479\"},{\"id\":\"3568\"}],\"margin\":[0,0,0,0],\"name\":\"Row03750\",\"tags\":[\"embedded\"]},\"id\":\"3474\",\"type\":\"Row\"},{\"attributes\":{\"axis_label\":\"Date\",\"formatter\":{\"id\":\"3519\"},\"major_label_orientation\":0.7853981633974483,\"major_label_policy\":{\"id\":\"3518\"},\"ticker\":{\"id\":\"3489\"}},\"id\":\"3488\",\"type\":\"DatetimeAxis\"},{\"attributes\":{\"months\":[0,6]},\"id\":\"3541\",\"type\":\"MonthsTicker\"},{\"attributes\":{\"margin\":[5,5,5,5],\"name\":\"HSpacer03755\",\"sizing_mode\":\"stretch_width\"},\"id\":\"3568\",\"type\":\"Spacer\"},{\"attributes\":{\"margin\":[5,5,5,5],\"name\":\"HSpacer03754\",\"sizing_mode\":\"stretch_width\"},\"id\":\"3475\",\"type\":\"Spacer\"},{\"attributes\":{\"num_minor_ticks\":5,\"tickers\":[{\"id\":\"3531\"},{\"id\":\"3532\"},{\"id\":\"3533\"},{\"id\":\"3534\"},{\"id\":\"3535\"},{\"id\":\"3536\"},{\"id\":\"3537\"},{\"id\":\"3538\"},{\"id\":\"3539\"},{\"id\":\"3540\"},{\"id\":\"3541\"},{\"id\":\"3542\"}]},\"id\":\"3489\",\"type\":\"DatetimeTicker\"},{\"attributes\":{},\"id\":\"3542\",\"type\":\"YearsTicker\"},{\"attributes\":{},\"id\":\"3484\",\"type\":\"LinearScale\"},{\"attributes\":{},\"id\":\"3544\",\"type\":\"UnionRenderers\"}],\"root_ids\":[\"3474\"]},\"title\":\"Bokeh Application\",\"version\":\"2.3.2\"}};\n",
       "    var render_items = [{\"docid\":\"5ec0596d-3490-47f8-b17d-2e7dfbc3e2a5\",\"root_ids\":[\"3474\"],\"roots\":{\"3474\":\"bae38434-65aa-4b4a-8c7a-a1b1c7313b23\"}}];\n",
       "    root.Bokeh.embed.embed_items_notebook(docs_json, render_items);\n",
       "  }\n",
       "  if (root.Bokeh !== undefined && root.Bokeh.Panel !== undefined) {\n",
       "    embed_document(root);\n",
       "  } else {\n",
       "    var attempts = 0;\n",
       "    var timer = setInterval(function(root) {\n",
       "      if (root.Bokeh !== undefined && root.Bokeh.Panel !== undefined) {\n",
       "        clearInterval(timer);\n",
       "        embed_document(root);\n",
       "      } else if (document.readyState == \"complete\") {\n",
       "        attempts++;\n",
       "        if (attempts > 200) {\n",
       "          clearInterval(timer);\n",
       "          console.log(\"Bokeh: ERROR: Unable to run BokehJS code because BokehJS library is missing\");\n",
       "        }\n",
       "      }\n",
       "    }, 25, root)\n",
       "  }\n",
       "})(window);</script>"
      ],
      "text/plain": [
       ":Curve   [time]   (daily_returns)"
      ]
     },
     "execution_count": 101,
     "metadata": {
      "application/vnd.holoviews_exec.v0+json": {
       "id": "3474"
      }
     },
     "output_type": "execute_result"
    }
   ],
   "source": [
    "# Create an interactive visualization with hvplot to plot the daily returns for PYPL.\n",
    "pypl_dataframe['daily_returns'].hvplot.line(\n",
    "    rot=45,\n",
    "    xlabel=\"Date\",\n",
    "    ylabel=\"Daily Return\",\n",
    "    title=\"PYPL Daily Returns\"   \n",
    ")"
   ]
  },
  {
   "cell_type": "markdown",
   "metadata": {},
   "source": [
    "### Step 4: Using hvPlot, create an interactive visualization for the PYPL cumulative returns. Reflect the “time” column of the DataFrame on the x-axis. Make sure that you professionally style and format your visualization to enhance its readability."
   ]
  },
  {
   "cell_type": "code",
   "execution_count": 120,
   "metadata": {},
   "outputs": [
    {
     "data": {},
     "metadata": {},
     "output_type": "display_data"
    },
    {
     "data": {
      "application/vnd.holoviews_exec.v0+json": "",
      "text/html": [
       "<div id='4504'>\n",
       "\n",
       "\n",
       "\n",
       "\n",
       "\n",
       "  <div class=\"bk-root\" id=\"e825d8d5-9e6f-426f-a012-a29e5fb98377\" data-root-id=\"4504\"></div>\n",
       "</div>\n",
       "<script type=\"application/javascript\">(function(root) {\n",
       "  function embed_document(root) {\n",
       "    var docs_json = {\"2e311a82-f578-4c27-b25a-4c9a1ecc6b67\":{\"defs\":[{\"extends\":null,\"module\":null,\"name\":\"ReactiveHTML1\",\"overrides\":[],\"properties\":[]},{\"extends\":null,\"module\":null,\"name\":\"FlexBox1\",\"overrides\":[],\"properties\":[{\"default\":\"flex-start\",\"kind\":null,\"name\":\"align_content\"},{\"default\":\"flex-start\",\"kind\":null,\"name\":\"align_items\"},{\"default\":\"row\",\"kind\":null,\"name\":\"flex_direction\"},{\"default\":\"wrap\",\"kind\":null,\"name\":\"flex_wrap\"},{\"default\":\"flex-start\",\"kind\":null,\"name\":\"justify_content\"}]},{\"extends\":null,\"module\":null,\"name\":\"TemplateActions1\",\"overrides\":[],\"properties\":[{\"default\":0,\"kind\":null,\"name\":\"open_modal\"},{\"default\":0,\"kind\":null,\"name\":\"close_modal\"}]},{\"extends\":null,\"module\":null,\"name\":\"MaterialTemplateActions1\",\"overrides\":[],\"properties\":[{\"default\":0,\"kind\":null,\"name\":\"open_modal\"},{\"default\":0,\"kind\":null,\"name\":\"close_modal\"}]}],\"roots\":{\"references\":[{\"attributes\":{\"days\":[1,4,7,10,13,16,19,22,25,28]},\"id\":\"4565\",\"type\":\"DaysTicker\"},{\"attributes\":{\"days\":[1,8,15,22]},\"id\":\"4566\",\"type\":\"DaysTicker\"},{\"attributes\":{},\"id\":\"4548\",\"type\":\"AllLabels\"},{\"attributes\":{},\"id\":\"4516\",\"type\":\"LinearScale\"},{\"attributes\":{\"line_color\":\"#30a2da\",\"line_width\":2,\"x\":{\"field\":\"time\"},\"y\":{\"field\":\"daily_returns\"}},\"id\":\"4547\",\"type\":\"Line\"},{\"attributes\":{\"margin\":[5,5,5,5],\"name\":\"HSpacer04640\",\"sizing_mode\":\"stretch_width\"},\"id\":\"4598\",\"type\":\"Spacer\"},{\"attributes\":{\"end\":1607040000000.0,\"reset_end\":1607040000000.0,\"reset_start\":1481846400000.0,\"start\":1481846400000.0,\"tags\":[[[\"time\",\"time\",null]]]},\"id\":\"4506\",\"type\":\"Range1d\"},{\"attributes\":{},\"id\":\"4540\",\"type\":\"Selection\"},{\"attributes\":{},\"id\":\"4574\",\"type\":\"UnionRenderers\"},{\"attributes\":{\"days\":[1,15]},\"id\":\"4567\",\"type\":\"DaysTicker\"},{\"attributes\":{\"margin\":[5,5,5,5],\"name\":\"HSpacer04639\",\"sizing_mode\":\"stretch_width\"},\"id\":\"4505\",\"type\":\"Spacer\"},{\"attributes\":{},\"id\":\"4551\",\"type\":\"AllLabels\"},{\"attributes\":{\"end\":215.13475846797397,\"reset_end\":215.13475846797397,\"reset_start\":-20.16468558841148,\"start\":-20.16468558841148,\"tags\":[[[\"daily_returns\",\"daily_returns\",null]]]},\"id\":\"4507\",\"type\":\"Range1d\"},{\"attributes\":{\"axis_label\":\"Cumulative Daily Return (%)\",\"formatter\":{\"id\":\"4552\"},\"major_label_policy\":{\"id\":\"4551\"},\"ticker\":{\"id\":\"4523\"}},\"id\":\"4522\",\"type\":\"LinearAxis\"},{\"attributes\":{},\"id\":\"4549\",\"type\":\"DatetimeTickFormatter\"},{\"attributes\":{\"days\":[1,2,3,4,5,6,7,8,9,10,11,12,13,14,15,16,17,18,19,20,21,22,23,24,25,26,27,28,29,30,31]},\"id\":\"4564\",\"type\":\"DaysTicker\"},{\"attributes\":{\"text\":\"PYPL Cumulative Daily Returns\",\"text_color\":\"black\",\"text_font_size\":\"12pt\"},\"id\":\"4510\",\"type\":\"Title\"},{\"attributes\":{\"callback\":null,\"formatters\":{\"@{time}\":\"datetime\"},\"renderers\":[{\"id\":\"4545\"}],\"tags\":[\"hv_created\"],\"tooltips\":[[\"time\",\"@{time}{%F %T}\"],[\"daily_returns\",\"@{daily_returns}\"]]},\"id\":\"4508\",\"type\":\"HoverTool\"},{\"attributes\":{},\"id\":\"4527\",\"type\":\"PanTool\"},{\"attributes\":{\"line_alpha\":0.1,\"line_color\":\"#30a2da\",\"line_width\":2,\"x\":{\"field\":\"time\"},\"y\":{\"field\":\"daily_returns\"}},\"id\":\"4543\",\"type\":\"Line\"},{\"attributes\":{\"data\":{\"daily_returns\":{\"__ndarray__\":\"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\",\"dtype\":\"float64\",\"order\":\"little\",\"shape\":[999]},\"time\":{\"__ndarray__\":\"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\",\"dtype\":\"float64\",\"order\":\"little\",\"shape\":[999]}},\"selected\":{\"id\":\"4540\"},\"selection_policy\":{\"id\":\"4574\"}},\"id\":\"4539\",\"type\":\"ColumnDataSource\"},{\"attributes\":{\"months\":[0,6]},\"id\":\"4571\",\"type\":\"MonthsTicker\"},{\"attributes\":{\"axis\":{\"id\":\"4518\"},\"grid_line_color\":null,\"ticker\":null},\"id\":\"4521\",\"type\":\"Grid\"},{\"attributes\":{},\"id\":\"4552\",\"type\":\"BasicTickFormatter\"},{\"attributes\":{\"overlay\":{\"id\":\"4531\"}},\"id\":\"4529\",\"type\":\"BoxZoomTool\"},{\"attributes\":{\"months\":[0,1,2,3,4,5,6,7,8,9,10,11]},\"id\":\"4568\",\"type\":\"MonthsTicker\"},{\"attributes\":{},\"id\":\"4514\",\"type\":\"LinearScale\"},{\"attributes\":{},\"id\":\"4523\",\"type\":\"BasicTicker\"},{\"attributes\":{},\"id\":\"4528\",\"type\":\"WheelZoomTool\"},{\"attributes\":{\"data_source\":{\"id\":\"4539\"},\"glyph\":{\"id\":\"4542\"},\"hover_glyph\":null,\"muted_glyph\":{\"id\":\"4544\"},\"nonselection_glyph\":{\"id\":\"4543\"},\"selection_glyph\":{\"id\":\"4547\"},\"view\":{\"id\":\"4546\"}},\"id\":\"4545\",\"type\":\"GlyphRenderer\"},{\"attributes\":{\"bottom_units\":\"screen\",\"fill_alpha\":0.5,\"fill_color\":\"lightgrey\",\"left_units\":\"screen\",\"level\":\"overlay\",\"line_alpha\":1.0,\"line_color\":\"black\",\"line_dash\":[4,4],\"line_width\":2,\"right_units\":\"screen\",\"syncable\":false,\"top_units\":\"screen\"},\"id\":\"4531\",\"type\":\"BoxAnnotation\"},{\"attributes\":{\"axis_label\":\"Date\",\"formatter\":{\"id\":\"4549\"},\"major_label_orientation\":0.7853981633974483,\"major_label_policy\":{\"id\":\"4548\"},\"ticker\":{\"id\":\"4519\"}},\"id\":\"4518\",\"type\":\"DatetimeAxis\"},{\"attributes\":{\"base\":60,\"mantissas\":[1,2,5,10,15,20,30],\"max_interval\":1800000.0,\"min_interval\":1000.0,\"num_minor_ticks\":0},\"id\":\"4562\",\"type\":\"AdaptiveTicker\"},{\"attributes\":{\"mantissas\":[1,2,5],\"max_interval\":500.0,\"num_minor_ticks\":0},\"id\":\"4561\",\"type\":\"AdaptiveTicker\"},{\"attributes\":{\"axis\":{\"id\":\"4522\"},\"dimension\":1,\"grid_line_color\":null,\"ticker\":null},\"id\":\"4525\",\"type\":\"Grid\"},{\"attributes\":{\"months\":[0,2,4,6,8,10]},\"id\":\"4569\",\"type\":\"MonthsTicker\"},{\"attributes\":{\"source\":{\"id\":\"4539\"}},\"id\":\"4546\",\"type\":\"CDSView\"},{\"attributes\":{},\"id\":\"4526\",\"type\":\"SaveTool\"},{\"attributes\":{},\"id\":\"4530\",\"type\":\"ResetTool\"},{\"attributes\":{},\"id\":\"4572\",\"type\":\"YearsTicker\"},{\"attributes\":{\"below\":[{\"id\":\"4518\"}],\"center\":[{\"id\":\"4521\"},{\"id\":\"4525\"}],\"height\":300,\"left\":[{\"id\":\"4522\"}],\"margin\":[5,5,5,5],\"min_border_bottom\":10,\"min_border_left\":10,\"min_border_right\":10,\"min_border_top\":10,\"renderers\":[{\"id\":\"4545\"}],\"sizing_mode\":\"fixed\",\"title\":{\"id\":\"4510\"},\"toolbar\":{\"id\":\"4532\"},\"width\":700,\"x_range\":{\"id\":\"4506\"},\"x_scale\":{\"id\":\"4514\"},\"y_range\":{\"id\":\"4507\"},\"y_scale\":{\"id\":\"4516\"}},\"id\":\"4509\",\"subtype\":\"Figure\",\"type\":\"Plot\"},{\"attributes\":{\"line_alpha\":0.2,\"line_color\":\"#30a2da\",\"line_width\":2,\"x\":{\"field\":\"time\"},\"y\":{\"field\":\"daily_returns\"}},\"id\":\"4544\",\"type\":\"Line\"},{\"attributes\":{\"line_color\":\"#30a2da\",\"line_width\":2,\"x\":{\"field\":\"time\"},\"y\":{\"field\":\"daily_returns\"}},\"id\":\"4542\",\"type\":\"Line\"},{\"attributes\":{\"base\":24,\"mantissas\":[1,2,4,6,8,12],\"max_interval\":43200000.0,\"min_interval\":3600000.0,\"num_minor_ticks\":0},\"id\":\"4563\",\"type\":\"AdaptiveTicker\"},{\"attributes\":{\"months\":[0,4,8]},\"id\":\"4570\",\"type\":\"MonthsTicker\"},{\"attributes\":{\"children\":[{\"id\":\"4505\"},{\"id\":\"4509\"},{\"id\":\"4598\"}],\"margin\":[0,0,0,0],\"name\":\"Row04635\",\"tags\":[\"embedded\"]},\"id\":\"4504\",\"type\":\"Row\"},{\"attributes\":{\"active_multi\":null,\"tools\":[{\"id\":\"4508\"},{\"id\":\"4526\"},{\"id\":\"4527\"},{\"id\":\"4528\"},{\"id\":\"4529\"},{\"id\":\"4530\"}]},\"id\":\"4532\",\"type\":\"Toolbar\"},{\"attributes\":{\"num_minor_ticks\":5,\"tickers\":[{\"id\":\"4561\"},{\"id\":\"4562\"},{\"id\":\"4563\"},{\"id\":\"4564\"},{\"id\":\"4565\"},{\"id\":\"4566\"},{\"id\":\"4567\"},{\"id\":\"4568\"},{\"id\":\"4569\"},{\"id\":\"4570\"},{\"id\":\"4571\"},{\"id\":\"4572\"}]},\"id\":\"4519\",\"type\":\"DatetimeTicker\"}],\"root_ids\":[\"4504\"]},\"title\":\"Bokeh Application\",\"version\":\"2.3.2\"}};\n",
       "    var render_items = [{\"docid\":\"2e311a82-f578-4c27-b25a-4c9a1ecc6b67\",\"root_ids\":[\"4504\"],\"roots\":{\"4504\":\"e825d8d5-9e6f-426f-a012-a29e5fb98377\"}}];\n",
       "    root.Bokeh.embed.embed_items_notebook(docs_json, render_items);\n",
       "  }\n",
       "  if (root.Bokeh !== undefined && root.Bokeh.Panel !== undefined) {\n",
       "    embed_document(root);\n",
       "  } else {\n",
       "    var attempts = 0;\n",
       "    var timer = setInterval(function(root) {\n",
       "      if (root.Bokeh !== undefined && root.Bokeh.Panel !== undefined) {\n",
       "        clearInterval(timer);\n",
       "        embed_document(root);\n",
       "      } else if (document.readyState == \"complete\") {\n",
       "        attempts++;\n",
       "        if (attempts > 200) {\n",
       "          clearInterval(timer);\n",
       "          console.log(\"Bokeh: ERROR: Unable to run BokehJS code because BokehJS library is missing\");\n",
       "        }\n",
       "      }\n",
       "    }, 25, root)\n",
       "  }\n",
       "})(window);</script>"
      ],
      "text/plain": [
       ":Curve   [time]   (daily_returns)"
      ]
     },
     "execution_count": 120,
     "metadata": {
      "application/vnd.holoviews_exec.v0+json": {
       "id": "4504"
      }
     },
     "output_type": "execute_result"
    }
   ],
   "source": [
    "# Create an interactive visaulization with hvplot to plot the cumulative returns for PYPL.\n",
    "(pypl_dataframe['daily_returns'] * 100).cumsum().hvplot.line(\n",
    "    rot=45,\n",
    "    xlabel=\"Date\",\n",
    "    ylabel=\"Cumulative Daily Return (%)\",\n",
    "    title=\"PYPL Cumulative Daily Returns\"   \n",
    ")"
   ]
  },
  {
   "cell_type": "markdown",
   "metadata": {},
   "source": [
    "## Optimize the SQL Queries\n",
    "\n",
    "For this part of the assignment, you’ll continue to analyze a single asset (PYPL) from the ETF. You’ll use advanced SQL queries to optimize the efficiency of accessing data from the database.\n",
    "\n",
    "Complete the following steps:\n",
    "\n",
    "1. Access the closing prices for PYPL that are greater than 200 by completing the following steps:\n",
    "\n",
    "1. Access the closing prices for PYPL that are greater than 200 by completing the following steps:\n",
    "\n",
    "    - Write a SQL `SELECT` statement to select the dates where the PYPL closing price was higher than 200.0.\n",
    "\n",
    "    - Select the “time” and “close” columns for those dates where the closing price was higher than 200.0.\n",
    "\n",
    "    - Using the SQL statement, read the data from the database into a Pandas DataFrame, and then review the resulting DataFrame.\n",
    "\n",
    "2. Find the top 10 daily returns for PYPL by completing the following steps:\n",
    "\n",
    "    -  Write a SQL statement to find the top 10 PYPL daily returns. Make sure to do the following:\n",
    "\n",
    "        * Use `SELECT` to select only the “time” and “daily_returns” columns.\n",
    "\n",
    "        * Use `ORDER` to sort the results in descending order by the “daily_returns” column.\n",
    "\n",
    "        * Use `LIMIT` to limit the results to the top 10 daily return values.\n",
    "\n",
    "    - Using the SQL statement, read the data from the database into a Pandas DataFrame, and then review the resulting DataFrame.\n"
   ]
  },
  {
   "cell_type": "markdown",
   "metadata": {},
   "source": [
    "### Step 1: Access the closing prices for PYPL that are greater than 200 by completing the following steps:\n",
    "\n",
    "    - Write a SQL `SELECT` statement to select the dates where the PYPL closing price was higher than 200.0.\n",
    "\n",
    "    - Select the “time” and “close” columns for those dates where the closing price was higher than 200.0.\n",
    "\n",
    "    - Using the SQL statement, read the data from the database into a Pandas DataFrame, and then review the resulting DataFrame.\n"
   ]
  },
  {
   "cell_type": "code",
   "execution_count": 34,
   "metadata": {
    "scrolled": true
   },
   "outputs": [
    {
     "data": {
      "text/html": [
       "<div>\n",
       "<style scoped>\n",
       "    .dataframe tbody tr th:only-of-type {\n",
       "        vertical-align: middle;\n",
       "    }\n",
       "\n",
       "    .dataframe tbody tr th {\n",
       "        vertical-align: top;\n",
       "    }\n",
       "\n",
       "    .dataframe thead th {\n",
       "        text-align: right;\n",
       "    }\n",
       "</style>\n",
       "<table border=\"1\" class=\"dataframe\">\n",
       "  <thead>\n",
       "    <tr style=\"text-align: right;\">\n",
       "      <th></th>\n",
       "      <th>close</th>\n",
       "    </tr>\n",
       "    <tr>\n",
       "      <th>time</th>\n",
       "      <th></th>\n",
       "    </tr>\n",
       "  </thead>\n",
       "  <tbody>\n",
       "    <tr>\n",
       "      <th>2020-08-05</th>\n",
       "      <td>202.92</td>\n",
       "    </tr>\n",
       "    <tr>\n",
       "      <th>2020-08-06</th>\n",
       "      <td>204.09</td>\n",
       "    </tr>\n",
       "    <tr>\n",
       "      <th>2020-08-25</th>\n",
       "      <td>201.71</td>\n",
       "    </tr>\n",
       "    <tr>\n",
       "      <th>2020-08-26</th>\n",
       "      <td>203.53</td>\n",
       "    </tr>\n",
       "    <tr>\n",
       "      <th>2020-08-27</th>\n",
       "      <td>204.34</td>\n",
       "    </tr>\n",
       "  </tbody>\n",
       "</table>\n",
       "</div>"
      ],
      "text/plain": [
       "             close\n",
       "time              \n",
       "2020-08-05  202.92\n",
       "2020-08-06  204.09\n",
       "2020-08-25  201.71\n",
       "2020-08-26  203.53\n",
       "2020-08-27  204.34"
      ]
     },
     "execution_count": 34,
     "metadata": {},
     "output_type": "execute_result"
    }
   ],
   "source": [
    "# Write a SQL SELECT statement to select the time and close columns \n",
    "# where the PYPL closing price was higher than 200.0.\n",
    "query = \"\"\"\n",
    "    SELECT time, close\n",
    "    FROM PYPL\n",
    "    WHERE close > 200\n",
    "\"\"\"\n",
    "\n",
    "# Using the query, read the data from the database into a Pandas DataFrame\n",
    "pypl_higher_than_200 = pd.read_sql_query(query, engine, index_col='time', parse_dates=['time'])\n",
    "\n",
    "# Review the resulting DataFrame\n",
    "pypl_higher_than_200.head()"
   ]
  },
  {
   "cell_type": "markdown",
   "metadata": {},
   "source": [
    "### Step 2: Find the top 10 daily returns for PYPL by completing the following steps:\n",
    "\n",
    "    -  Write a SQL statement to find the top 10 PYPL daily returns. Make sure to do the following:\n",
    "\n",
    "        * Use `SELECT` to select only the “time” and “daily_returns” columns.\n",
    "\n",
    "        * Use `ORDER` to sort the results in descending order by the “daily_returns” column.\n",
    "\n",
    "        * Use `LIMIT` to limit the results to the top 10 daily return values.\n",
    "\n",
    "    - Using the SQL statement, read the data from the database into a Pandas DataFrame, and then review the resulting DataFrame.\n"
   ]
  },
  {
   "cell_type": "code",
   "execution_count": 35,
   "metadata": {},
   "outputs": [
    {
     "data": {
      "text/html": [
       "<div>\n",
       "<style scoped>\n",
       "    .dataframe tbody tr th:only-of-type {\n",
       "        vertical-align: middle;\n",
       "    }\n",
       "\n",
       "    .dataframe tbody tr th {\n",
       "        vertical-align: top;\n",
       "    }\n",
       "\n",
       "    .dataframe thead th {\n",
       "        text-align: right;\n",
       "    }\n",
       "</style>\n",
       "<table border=\"1\" class=\"dataframe\">\n",
       "  <thead>\n",
       "    <tr style=\"text-align: right;\">\n",
       "      <th></th>\n",
       "      <th>daily_returns</th>\n",
       "    </tr>\n",
       "    <tr>\n",
       "      <th>time</th>\n",
       "      <th></th>\n",
       "    </tr>\n",
       "  </thead>\n",
       "  <tbody>\n",
       "    <tr>\n",
       "      <th>2020-03-24</th>\n",
       "      <td>0.140981</td>\n",
       "    </tr>\n",
       "    <tr>\n",
       "      <th>2020-05-07</th>\n",
       "      <td>0.140318</td>\n",
       "    </tr>\n",
       "    <tr>\n",
       "      <th>2020-03-13</th>\n",
       "      <td>0.138700</td>\n",
       "    </tr>\n",
       "    <tr>\n",
       "      <th>2020-04-06</th>\n",
       "      <td>0.100877</td>\n",
       "    </tr>\n",
       "    <tr>\n",
       "      <th>2018-10-19</th>\n",
       "      <td>0.093371</td>\n",
       "    </tr>\n",
       "  </tbody>\n",
       "</table>\n",
       "</div>"
      ],
      "text/plain": [
       "            daily_returns\n",
       "time                     \n",
       "2020-03-24       0.140981\n",
       "2020-05-07       0.140318\n",
       "2020-03-13       0.138700\n",
       "2020-04-06       0.100877\n",
       "2018-10-19       0.093371"
      ]
     },
     "execution_count": 35,
     "metadata": {},
     "output_type": "execute_result"
    }
   ],
   "source": [
    "# Write a SQL SELECT statement to select the time and daily_returns columns\n",
    "# Sort the results in descending order and return only the top 10 return values\n",
    "query = \"\"\"\n",
    "    SELECT time, daily_returns\n",
    "    FROM PYPL\n",
    "    ORDER BY daily_returns DESC\n",
    "    LIMIT 10\n",
    "\"\"\"\n",
    "\n",
    "# Using the query, read the data from the database into a Pandas DataFrame\n",
    "pypl_top_10_returns = pd.read_sql_query(query, engine, index_col='time', parse_dates=['time'])\n",
    "\n",
    "# Review the resulting DataFrame\n",
    "pypl_top_10_returns.head()"
   ]
  },
  {
   "cell_type": "markdown",
   "metadata": {},
   "source": [
    "## Analyze the Fintech ETF Portfolio\n",
    "\n",
    "For this part of the assignment, you’ll build the entire ETF portfolio and then evaluate its performance. To do so, you’ll build the ETF portfolio by using SQL joins to combine all the data for each asset.\n",
    "\n",
    "Complete the following steps:\n",
    "\n",
    "1. Write a SQL query to join each table in the portfolio into a single DataFrame. To do so, complete the following steps:\n",
    "\n",
    "    - Use a SQL inner join to join each table on the “time” column. Access the “time” column in the `GDOT` table via the `GDOT.time` syntax. Access the “time” columns from the other tables via similar syntax.\n",
    "\n",
    "    - Using the SQL query, read the data from the database into a Pandas DataFrame. Review the resulting DataFrame.\n",
    "\n",
    "2. Create a DataFrame that averages the “daily_returns” columns for all four assets. Review the resulting DataFrame.\n",
    "\n",
    "    > **Hint** Assuming that this ETF contains equally weighted returns, you can average the returns for each asset to get the average returns of the portfolio. You can then use the average returns of the portfolio to calculate the annualized returns and the cumulative returns. For the calculation to get the average daily returns for the portfolio, use the following code:\n",
    "    >\n",
    "    > ```python\n",
    "    > etf_portfolio_returns = etf_portfolio['daily_returns'].mean(axis=1)\n",
    "    > ```\n",
    "    >\n",
    "    > You can use the average daily returns of the portfolio the same way that you used the daily returns of a single asset.\n",
    "\n",
    "3. Use the average daily returns in the `etf_portfolio_returns` DataFrame to calculate the annualized returns for the portfolio. Display the annualized return value of the ETF portfolio.\n",
    "\n",
    "> **Hint**  To calculate the annualized returns, multiply the mean of the `etf_portfolio_returns` values by 252.\n",
    ">\n",
    "> To convert the decimal values to percentages, multiply the results by 100.\n",
    "\n",
    "4. Use the average daily returns in the `etf_portfolio_returns` DataFrame to calculate the cumulative returns of the ETF portfolio.\n",
    "\n",
    "5. Using hvPlot, create an interactive line plot that visualizes the cumulative return values of the ETF portfolio. Reflect the “time” column of the DataFrame on the x-axis. Make sure that you professionally style and format your visualization to enhance its readability.\n"
   ]
  },
  {
   "cell_type": "markdown",
   "metadata": {},
   "source": [
    "### Step 1: Write a SQL query to join each table in the portfolio into a single DataFrame. To do so, complete the following steps:\n",
    "\n",
    "    - Use a SQL inner join to join each table on the “time” column. Access the “time” column in the `GDOT` table via the `GDOT.time` syntax. Access the “time” columns from the other tables via similar syntax.\n",
    "\n",
    "    - Using the SQL query, read the data from the database into a Pandas DataFrame. Review the resulting DataFrame."
   ]
  },
  {
   "cell_type": "code",
   "execution_count": 79,
   "metadata": {
    "scrolled": true
   },
   "outputs": [
    {
     "data": {
      "text/html": [
       "<div>\n",
       "<style scoped>\n",
       "    .dataframe tbody tr th:only-of-type {\n",
       "        vertical-align: middle;\n",
       "    }\n",
       "\n",
       "    .dataframe tbody tr th {\n",
       "        vertical-align: top;\n",
       "    }\n",
       "\n",
       "    .dataframe thead th {\n",
       "        text-align: right;\n",
       "    }\n",
       "</style>\n",
       "<table border=\"1\" class=\"dataframe\">\n",
       "  <thead>\n",
       "    <tr style=\"text-align: right;\">\n",
       "      <th></th>\n",
       "      <th>daily_returns</th>\n",
       "      <th>daily_returns</th>\n",
       "      <th>daily_returns</th>\n",
       "      <th>daily_returns</th>\n",
       "    </tr>\n",
       "    <tr>\n",
       "      <th>time</th>\n",
       "      <th></th>\n",
       "      <th></th>\n",
       "      <th></th>\n",
       "      <th></th>\n",
       "    </tr>\n",
       "  </thead>\n",
       "  <tbody>\n",
       "    <tr>\n",
       "      <th>2016-12-16</th>\n",
       "      <td>-0.005564</td>\n",
       "      <td>-0.023218</td>\n",
       "      <td>-0.016708</td>\n",
       "      <td>0.017339</td>\n",
       "    </tr>\n",
       "    <tr>\n",
       "      <th>2016-12-19</th>\n",
       "      <td>0.003306</td>\n",
       "      <td>-0.007923</td>\n",
       "      <td>0.000795</td>\n",
       "      <td>-0.001043</td>\n",
       "    </tr>\n",
       "    <tr>\n",
       "      <th>2016-12-20</th>\n",
       "      <td>0.007351</td>\n",
       "      <td>0.001261</td>\n",
       "      <td>0.016602</td>\n",
       "      <td>0.009053</td>\n",
       "    </tr>\n",
       "    <tr>\n",
       "      <th>2016-12-21</th>\n",
       "      <td>0.008807</td>\n",
       "      <td>0.001679</td>\n",
       "      <td>-0.006911</td>\n",
       "      <td>-0.007591</td>\n",
       "    </tr>\n",
       "    <tr>\n",
       "      <th>2016-12-22</th>\n",
       "      <td>-0.010227</td>\n",
       "      <td>0.006077</td>\n",
       "      <td>-0.005178</td>\n",
       "      <td>-0.023644</td>\n",
       "    </tr>\n",
       "  </tbody>\n",
       "</table>\n",
       "</div>"
      ],
      "text/plain": [
       "            daily_returns  daily_returns  daily_returns  daily_returns\n",
       "time                                                                  \n",
       "2016-12-16      -0.005564      -0.023218      -0.016708       0.017339\n",
       "2016-12-19       0.003306      -0.007923       0.000795      -0.001043\n",
       "2016-12-20       0.007351       0.001261       0.016602       0.009053\n",
       "2016-12-21       0.008807       0.001679      -0.006911      -0.007591\n",
       "2016-12-22      -0.010227       0.006077      -0.005178      -0.023644"
      ]
     },
     "execution_count": 79,
     "metadata": {},
     "output_type": "execute_result"
    }
   ],
   "source": [
    "# Wreate a SQL query to join each table in the portfolio into a single DataFrame \n",
    "# Use the time column from each table as the basis for the join\n",
    "query =  \"\"\"\n",
    "    SELECT\n",
    "        PYPL.time,\n",
    "        PYPL.daily_returns,\n",
    "        GDOT.daily_returns,\n",
    "        GS.daily_returns,\n",
    "        SQ.daily_returns\n",
    "    FROM PYPL\n",
    "    INNER JOIN GDOT ON PYPL.time = GDOT.time\n",
    "    INNER JOIN GS ON PYPL.time = GS.time\n",
    "    INNER JOIN SQ ON PYPL.time = SQ.time\n",
    "\"\"\"\n",
    "\n",
    "# Using the query, read the data from the database into a Pandas DataFrame\n",
    "etf_portfolio = pd.read_sql_query(query, engine, index_col='time', parse_dates=['time'])\n",
    "\n",
    "# Review the resulting DataFrame\n",
    "etf_portfolio.head()"
   ]
  },
  {
   "cell_type": "markdown",
   "metadata": {},
   "source": [
    "### Step 2: Create a DataFrame that averages the “daily_returns” columns for all four assets. Review the resulting DataFrame."
   ]
  },
  {
   "cell_type": "code",
   "execution_count": 102,
   "metadata": {
    "scrolled": true
   },
   "outputs": [
    {
     "data": {
      "text/plain": [
       "time\n",
       "2016-12-16   -0.007038\n",
       "2016-12-19   -0.001216\n",
       "2016-12-20    0.008567\n",
       "2016-12-21   -0.001004\n",
       "2016-12-22   -0.008243\n",
       "                ...   \n",
       "2020-11-30   -0.014635\n",
       "2020-12-01   -0.003990\n",
       "2020-12-02   -0.006288\n",
       "2020-12-03    0.011246\n",
       "2020-12-04    0.009108\n",
       "Length: 999, dtype: float64"
      ]
     },
     "execution_count": 102,
     "metadata": {},
     "output_type": "execute_result"
    }
   ],
   "source": [
    "# Create a DataFrame that displays the mean value of the “daily_returns” columns for all four assets.\n",
    "etf_portfolio_returns = etf_portfolio['daily_returns'].mean(axis=1)\n",
    "\n",
    "# Review the resulting DataFrame\n",
    "etf_portfolio_returns"
   ]
  },
  {
   "cell_type": "markdown",
   "metadata": {},
   "source": [
    "### Step 3: Use the average daily returns in the etf_portfolio_returns DataFrame to calculate the annualized returns for the portfolio. Display the annualized return value of the ETF portfolio."
   ]
  },
  {
   "cell_type": "code",
   "execution_count": 114,
   "metadata": {},
   "outputs": [
    {
     "name": "stdout",
     "output_type": "stream",
     "text": [
      "The annualized return of the ETF portfolio is 43.83%\n"
     ]
    }
   ],
   "source": [
    "# Use the average daily returns provided by the etf_portfolio_returns DataFrame \n",
    "# to calculate the annualized return for the portfolio. \n",
    "annualized_etf_portfolio_returns = etf_portfolio_returns.mean() * 252\n",
    "\n",
    "# Display the annualized return value of the ETF portfolio.\n",
    "print(f\"The annualized return of the ETF portfolio is {(annualized_etf_portfolio_returns * 100):.2f}%\")"
   ]
  },
  {
   "cell_type": "markdown",
   "metadata": {},
   "source": [
    "### Step 4: Use the average daily returns in the `etf_portfolio_returns` DataFrame to calculate the cumulative returns of the ETF portfolio."
   ]
  },
  {
   "cell_type": "code",
   "execution_count": 116,
   "metadata": {},
   "outputs": [
    {
     "name": "stdout",
     "output_type": "stream",
     "text": [
      "The final cumulative return of the ETF portfolio is 173.74%\n"
     ]
    }
   ],
   "source": [
    "# Use the average daily returns provided by the etf_portfolio_returns DataFrame \n",
    "# to calculate the cumulative returns\n",
    "etf_cumulative_returns = etf_portfolio_returns.cumsum()\n",
    "\n",
    "# Display the final cumulative return value\n",
    "print(f\"The final cumulative return of the ETF portfolio is {(etf_cumulative_returns.iloc[-1] * 100):.2f}%\")"
   ]
  },
  {
   "cell_type": "markdown",
   "metadata": {},
   "source": [
    "### Step 5: Using hvPlot, create an interactive line plot that visualizes the cumulative return values of the ETF portfolio. Reflect the “time” column of the DataFrame on the x-axis. Make sure that you professionally style and format your visualization to enhance its readability."
   ]
  },
  {
   "cell_type": "code",
   "execution_count": 121,
   "metadata": {},
   "outputs": [
    {
     "data": {},
     "metadata": {},
     "output_type": "display_data"
    },
    {
     "data": {
      "application/vnd.holoviews_exec.v0+json": "",
      "text/html": [
       "<div id='4710'>\n",
       "\n",
       "\n",
       "\n",
       "\n",
       "\n",
       "  <div class=\"bk-root\" id=\"100b1c66-e0e8-4b1b-9b38-f4f188a4afe5\" data-root-id=\"4710\"></div>\n",
       "</div>\n",
       "<script type=\"application/javascript\">(function(root) {\n",
       "  function embed_document(root) {\n",
       "    var docs_json = {\"8463569d-18fa-48b3-b969-ccd276031844\":{\"defs\":[{\"extends\":null,\"module\":null,\"name\":\"ReactiveHTML1\",\"overrides\":[],\"properties\":[]},{\"extends\":null,\"module\":null,\"name\":\"FlexBox1\",\"overrides\":[],\"properties\":[{\"default\":\"flex-start\",\"kind\":null,\"name\":\"align_content\"},{\"default\":\"flex-start\",\"kind\":null,\"name\":\"align_items\"},{\"default\":\"row\",\"kind\":null,\"name\":\"flex_direction\"},{\"default\":\"wrap\",\"kind\":null,\"name\":\"flex_wrap\"},{\"default\":\"flex-start\",\"kind\":null,\"name\":\"justify_content\"}]},{\"extends\":null,\"module\":null,\"name\":\"TemplateActions1\",\"overrides\":[],\"properties\":[{\"default\":0,\"kind\":null,\"name\":\"open_modal\"},{\"default\":0,\"kind\":null,\"name\":\"close_modal\"}]},{\"extends\":null,\"module\":null,\"name\":\"MaterialTemplateActions1\",\"overrides\":[],\"properties\":[{\"default\":0,\"kind\":null,\"name\":\"open_modal\"},{\"default\":0,\"kind\":null,\"name\":\"close_modal\"}]}],\"roots\":{\"references\":[{\"attributes\":{},\"id\":\"4754\",\"type\":\"AllLabels\"},{\"attributes\":{\"data\":{\"0\":{\"__ndarray__\":\"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\",\"dtype\":\"float64\",\"order\":\"little\",\"shape\":[999]},\"A_0\":{\"__ndarray__\":\"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\",\"dtype\":\"float64\",\"order\":\"little\",\"shape\":[999]},\"time\":{\"__ndarray__\":\"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\",\"dtype\":\"float64\",\"order\":\"little\",\"shape\":[999]}},\"selected\":{\"id\":\"4746\"},\"selection_policy\":{\"id\":\"4780\"}},\"id\":\"4745\",\"type\":\"ColumnDataSource\"},{\"attributes\":{},\"id\":\"4720\",\"type\":\"LinearScale\"},{\"attributes\":{\"margin\":[5,5,5,5],\"name\":\"HSpacer04815\",\"sizing_mode\":\"stretch_width\"},\"id\":\"4711\",\"type\":\"Spacer\"},{\"attributes\":{\"months\":[0,2,4,6,8,10]},\"id\":\"4775\",\"type\":\"MonthsTicker\"},{\"attributes\":{\"axis\":{\"id\":\"4728\"},\"dimension\":1,\"grid_line_color\":null,\"ticker\":null},\"id\":\"4731\",\"type\":\"Grid\"},{\"attributes\":{\"children\":[{\"id\":\"4711\"},{\"id\":\"4715\"},{\"id\":\"4804\"}],\"margin\":[0,0,0,0],\"name\":\"Row04811\",\"tags\":[\"embedded\"]},\"id\":\"4710\",\"type\":\"Row\"},{\"attributes\":{\"overlay\":{\"id\":\"4737\"}},\"id\":\"4735\",\"type\":\"BoxZoomTool\"},{\"attributes\":{\"days\":[1,15]},\"id\":\"4773\",\"type\":\"DaysTicker\"},{\"attributes\":{\"months\":[0,1,2,3,4,5,6,7,8,9,10,11]},\"id\":\"4774\",\"type\":\"MonthsTicker\"},{\"attributes\":{\"months\":[0,4,8]},\"id\":\"4776\",\"type\":\"MonthsTicker\"},{\"attributes\":{\"bottom_units\":\"screen\",\"fill_alpha\":0.5,\"fill_color\":\"lightgrey\",\"left_units\":\"screen\",\"level\":\"overlay\",\"line_alpha\":1.0,\"line_color\":\"black\",\"line_dash\":[4,4],\"line_width\":2,\"right_units\":\"screen\",\"syncable\":false,\"top_units\":\"screen\"},\"id\":\"4737\",\"type\":\"BoxAnnotation\"},{\"attributes\":{\"text\":\"ETF Portfolio Cumulative Daily Returns\",\"text_color\":\"black\",\"text_font_size\":\"12pt\"},\"id\":\"4716\",\"type\":\"Title\"},{\"attributes\":{\"line_color\":\"#30a2da\",\"line_width\":2,\"x\":{\"field\":\"time\"},\"y\":{\"field\":\"0\"}},\"id\":\"4753\",\"type\":\"Line\"},{\"attributes\":{},\"id\":\"4732\",\"type\":\"SaveTool\"},{\"attributes\":{\"line_color\":\"#30a2da\",\"line_width\":2,\"x\":{\"field\":\"time\"},\"y\":{\"field\":\"0\"}},\"id\":\"4748\",\"type\":\"Line\"},{\"attributes\":{},\"id\":\"4734\",\"type\":\"WheelZoomTool\"},{\"attributes\":{\"line_alpha\":0.2,\"line_color\":\"#30a2da\",\"line_width\":2,\"x\":{\"field\":\"time\"},\"y\":{\"field\":\"0\"}},\"id\":\"4750\",\"type\":\"Line\"},{\"attributes\":{},\"id\":\"4733\",\"type\":\"PanTool\"},{\"attributes\":{\"data_source\":{\"id\":\"4745\"},\"glyph\":{\"id\":\"4748\"},\"hover_glyph\":null,\"muted_glyph\":{\"id\":\"4750\"},\"nonselection_glyph\":{\"id\":\"4749\"},\"selection_glyph\":{\"id\":\"4753\"},\"view\":{\"id\":\"4752\"}},\"id\":\"4751\",\"type\":\"GlyphRenderer\"},{\"attributes\":{},\"id\":\"4757\",\"type\":\"AllLabels\"},{\"attributes\":{\"mantissas\":[1,2,5],\"max_interval\":500.0,\"num_minor_ticks\":0},\"id\":\"4767\",\"type\":\"AdaptiveTicker\"},{\"attributes\":{},\"id\":\"4780\",\"type\":\"UnionRenderers\"},{\"attributes\":{},\"id\":\"4746\",\"type\":\"Selection\"},{\"attributes\":{\"days\":[1,8,15,22]},\"id\":\"4772\",\"type\":\"DaysTicker\"},{\"attributes\":{\"days\":[1,4,7,10,13,16,19,22,25,28]},\"id\":\"4771\",\"type\":\"DaysTicker\"},{\"attributes\":{\"source\":{\"id\":\"4745\"}},\"id\":\"4752\",\"type\":\"CDSView\"},{\"attributes\":{\"axis\":{\"id\":\"4724\"},\"grid_line_color\":null,\"ticker\":null},\"id\":\"4727\",\"type\":\"Grid\"},{\"attributes\":{\"days\":[1,2,3,4,5,6,7,8,9,10,11,12,13,14,15,16,17,18,19,20,21,22,23,24,25,26,27,28,29,30,31]},\"id\":\"4770\",\"type\":\"DaysTicker\"},{\"attributes\":{\"axis_label\":\"Date\",\"formatter\":{\"id\":\"4755\"},\"major_label_orientation\":0.7853981633974483,\"major_label_policy\":{\"id\":\"4754\"},\"ticker\":{\"id\":\"4725\"}},\"id\":\"4724\",\"type\":\"DatetimeAxis\"},{\"attributes\":{\"months\":[0,6]},\"id\":\"4777\",\"type\":\"MonthsTicker\"},{\"attributes\":{},\"id\":\"4778\",\"type\":\"YearsTicker\"},{\"attributes\":{},\"id\":\"4758\",\"type\":\"BasicTickFormatter\"},{\"attributes\":{},\"id\":\"4755\",\"type\":\"DatetimeTickFormatter\"},{\"attributes\":{},\"id\":\"4736\",\"type\":\"ResetTool\"},{\"attributes\":{\"below\":[{\"id\":\"4724\"}],\"center\":[{\"id\":\"4727\"},{\"id\":\"4731\"}],\"height\":300,\"left\":[{\"id\":\"4728\"}],\"margin\":[5,5,5,5],\"min_border_bottom\":10,\"min_border_left\":10,\"min_border_right\":10,\"min_border_top\":10,\"renderers\":[{\"id\":\"4751\"}],\"sizing_mode\":\"fixed\",\"title\":{\"id\":\"4716\"},\"toolbar\":{\"id\":\"4738\"},\"width\":700,\"x_range\":{\"id\":\"4712\"},\"x_scale\":{\"id\":\"4720\"},\"y_range\":{\"id\":\"4713\"},\"y_scale\":{\"id\":\"4722\"}},\"id\":\"4715\",\"subtype\":\"Figure\",\"type\":\"Plot\"},{\"attributes\":{\"margin\":[5,5,5,5],\"name\":\"HSpacer04816\",\"sizing_mode\":\"stretch_width\"},\"id\":\"4804\",\"type\":\"Spacer\"},{\"attributes\":{\"num_minor_ticks\":5,\"tickers\":[{\"id\":\"4767\"},{\"id\":\"4768\"},{\"id\":\"4769\"},{\"id\":\"4770\"},{\"id\":\"4771\"},{\"id\":\"4772\"},{\"id\":\"4773\"},{\"id\":\"4774\"},{\"id\":\"4775\"},{\"id\":\"4776\"},{\"id\":\"4777\"},{\"id\":\"4778\"}]},\"id\":\"4725\",\"type\":\"DatetimeTicker\"},{\"attributes\":{\"base\":24,\"mantissas\":[1,2,4,6,8,12],\"max_interval\":43200000.0,\"min_interval\":3600000.0,\"num_minor_ticks\":0},\"id\":\"4769\",\"type\":\"AdaptiveTicker\"},{\"attributes\":{\"line_alpha\":0.1,\"line_color\":\"#30a2da\",\"line_width\":2,\"x\":{\"field\":\"time\"},\"y\":{\"field\":\"0\"}},\"id\":\"4749\",\"type\":\"Line\"},{\"attributes\":{\"base\":60,\"mantissas\":[1,2,5,10,15,20,30],\"max_interval\":1800000.0,\"min_interval\":1000.0,\"num_minor_ticks\":0},\"id\":\"4768\",\"type\":\"AdaptiveTicker\"},{\"attributes\":{\"axis_label\":\"Cumulative Daily Return (%)\",\"formatter\":{\"id\":\"4758\"},\"major_label_policy\":{\"id\":\"4757\"},\"ticker\":{\"id\":\"4729\"}},\"id\":\"4728\",\"type\":\"LinearAxis\"},{\"attributes\":{},\"id\":\"4722\",\"type\":\"LinearScale\"},{\"attributes\":{},\"id\":\"4729\",\"type\":\"BasicTicker\"},{\"attributes\":{\"end\":192.89267459167706,\"reset_end\":192.89267459167706,\"reset_start\":-20.020641956293847,\"start\":-20.020641956293847,\"tags\":[[[\"0\",\"0\",null]]]},\"id\":\"4713\",\"type\":\"Range1d\"},{\"attributes\":{\"active_multi\":null,\"tools\":[{\"id\":\"4714\"},{\"id\":\"4732\"},{\"id\":\"4733\"},{\"id\":\"4734\"},{\"id\":\"4735\"},{\"id\":\"4736\"}]},\"id\":\"4738\",\"type\":\"Toolbar\"},{\"attributes\":{\"callback\":null,\"formatters\":{\"@{time}\":\"datetime\"},\"renderers\":[{\"id\":\"4751\"}],\"tags\":[\"hv_created\"],\"tooltips\":[[\"time\",\"@{time}{%F %T}\"],[\"0\",\"@{A_0}\"]]},\"id\":\"4714\",\"type\":\"HoverTool\"},{\"attributes\":{\"end\":1607040000000.0,\"reset_end\":1607040000000.0,\"reset_start\":1481846400000.0,\"start\":1481846400000.0,\"tags\":[[[\"time\",\"time\",null]]]},\"id\":\"4712\",\"type\":\"Range1d\"}],\"root_ids\":[\"4710\"]},\"title\":\"Bokeh Application\",\"version\":\"2.3.2\"}};\n",
       "    var render_items = [{\"docid\":\"8463569d-18fa-48b3-b969-ccd276031844\",\"root_ids\":[\"4710\"],\"roots\":{\"4710\":\"100b1c66-e0e8-4b1b-9b38-f4f188a4afe5\"}}];\n",
       "    root.Bokeh.embed.embed_items_notebook(docs_json, render_items);\n",
       "  }\n",
       "  if (root.Bokeh !== undefined && root.Bokeh.Panel !== undefined) {\n",
       "    embed_document(root);\n",
       "  } else {\n",
       "    var attempts = 0;\n",
       "    var timer = setInterval(function(root) {\n",
       "      if (root.Bokeh !== undefined && root.Bokeh.Panel !== undefined) {\n",
       "        clearInterval(timer);\n",
       "        embed_document(root);\n",
       "      } else if (document.readyState == \"complete\") {\n",
       "        attempts++;\n",
       "        if (attempts > 200) {\n",
       "          clearInterval(timer);\n",
       "          console.log(\"Bokeh: ERROR: Unable to run BokehJS code because BokehJS library is missing\");\n",
       "        }\n",
       "      }\n",
       "    }, 25, root)\n",
       "  }\n",
       "})(window);</script>"
      ],
      "text/plain": [
       ":Curve   [time]   (0)"
      ]
     },
     "execution_count": 121,
     "metadata": {
      "application/vnd.holoviews_exec.v0+json": {
       "id": "4710"
      }
     },
     "output_type": "execute_result"
    }
   ],
   "source": [
    "# Using hvplot, create an interactive line plot that visualizes the ETF portfolios cumulative return values.\n",
    "(etf_cumulative_returns * 100).hvplot.line(\n",
    "    rot=45,\n",
    "    xlabel=\"Date\",\n",
    "    ylabel=\"Cumulative Daily Return (%)\",\n",
    "    title=\"ETF Portfolio Cumulative Daily Returns\"   \n",
    ")"
   ]
  },
  {
   "cell_type": "code",
   "execution_count": null,
   "metadata": {},
   "outputs": [],
   "source": []
  }
 ],
 "metadata": {
  "kernelspec": {
   "display_name": "dev",
   "language": "python",
   "name": "dev"
  },
  "language_info": {
   "codemirror_mode": {
    "name": "ipython",
    "version": 3
   },
   "file_extension": ".py",
   "mimetype": "text/x-python",
   "name": "python",
   "nbconvert_exporter": "python",
   "pygments_lexer": "ipython3",
   "version": "3.7.10"
  }
 },
 "nbformat": 4,
 "nbformat_minor": 4
}
