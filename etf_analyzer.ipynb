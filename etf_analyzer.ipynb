{
 "cells": [
  {
   "cell_type": "markdown",
   "metadata": {},
   "source": [
    "# Create a Web Application for an ETF Analyzer\n",
    "\n",
    "In this Challenge assignment, you’ll build a financial database and web application by using SQL, Python, and the Voilà library to analyze the performance of a hypothetical fintech ETF.\n",
    "\n",
    "Instructions: \n",
    "\n",
    "Use this notebook to complete your analysis of a fintech ETF that consists of four stocks: GOST, GS, PYPL, and SQ. Each stock has its own table in the `etf.db` database, which the `Starter_Code` folder also contains.\n",
    "\n",
    "Analyze the daily returns of the ETF stocks both individually and as a whole. Then deploy the visualizations to a web application by using the Voilà library.\n",
    "\n",
    "The detailed instructions are divided into the following parts:\n",
    "\n",
    "* Analyze a single asset in the ETF\n",
    "\n",
    "* Optimize data access with Advanced SQL queries\n",
    "\n",
    "* Analyze the ETF portfolio\n",
    "\n",
    "* Deploy the notebook as a web application\n",
    "\n",
    "#### Analyze a Single Asset in the ETF\n",
    "\n",
    "For this part of the assignment, you’ll use SQL queries with Python, Pandas, and hvPlot to analyze the performance of a single asset from the ETF.\n",
    "\n",
    "Complete the following steps:\n",
    "\n",
    "1. Write a SQL `SELECT` statement by using an f-string that reads all the PYPL data from the database. Using the SQL `SELECT` statement, execute a query that reads the PYPL data from the database into a Pandas DataFrame.\n",
    "\n",
    "2. Use the `head` and `tail` functions to review the first five and the last five rows of the DataFrame. Make a note of the beginning and end dates that are available from this dataset. You’ll use this information to complete your analysis.\n",
    "\n",
    "3. Using hvPlot, create an interactive visualization for the PYPL daily returns. Reflect the “time” column of the DataFrame on the x-axis. Make sure that you professionally style and format your visualization to enhance its readability.\n",
    "\n",
    "4. Using hvPlot, create an interactive visualization for the PYPL cumulative returns. Reflect the “time” column of the DataFrame on the x-axis. Make sure that you professionally style and format your visualization to enhance its readability.\n",
    "\n",
    "#### Optimize Data Access with Advanced SQL Queries\n",
    "\n",
    "For this part of the assignment, you’ll continue to analyze a single asset (PYPL) from the ETF. You’ll use advanced SQL queries to optimize the efficiency of accessing data from the database.\n",
    "\n",
    "Complete the following steps:\n",
    "\n",
    "1. Access the closing prices for PYPL that are greater than 200 by completing the following steps:\n",
    "\n",
    "    - Write a SQL `SELECT` statement to select the dates where the PYPL closing price was higher than 200.0.\n",
    "\n",
    "    - Using the SQL statement, read the data from the database into a Pandas DataFrame, and then review the resulting DataFrame.\n",
    "\n",
    "    - Select the “time” and “close” columns for those dates where the closing price was higher than 200.0.\n",
    "\n",
    "2. Find the top 10 daily returns for PYPL by completing the following steps:\n",
    "\n",
    "    -  Write a SQL statement to find the top 10 PYPL daily returns. Make sure to do the following:\n",
    "\n",
    "        * Use `SELECT` to select only the “time” and “daily_returns” columns.\n",
    "\n",
    "        * Use `ORDER` to sort the results in descending order by the “daily_returns” column.\n",
    "\n",
    "        * Use `LIMIT` to limit the results to the top 10 daily return values.\n",
    "\n",
    "    - Using the SQL statement, read the data from the database into a Pandas DataFrame, and then review the resulting DataFrame.\n",
    "\n",
    "#### Analyze the ETF Portfolio\n",
    "\n",
    "For this part of the assignment, you’ll build the entire ETF portfolio and then evaluate its performance. To do so, you’ll build the ETF portfolio by using SQL joins to combine all the data for each asset.\n",
    "\n",
    "Complete the following steps:\n",
    "\n",
    "1. Write a SQL query to join each table in the portfolio into a single DataFrame. To do so, complete the following steps:\n",
    "\n",
    "    - Use a SQL inner join to join each table on the “time” column. Access the “time” column in the `GDOT` table via the `GDOT.time` syntax. Access the “time” columns from the other tables via similar syntax.\n",
    "\n",
    "    - Using the SQL query, read the data from the database into a Pandas DataFrame. Review the resulting DataFrame.\n",
    "\n",
    "2. Create a DataFrame that averages the “daily_returns” columns for all four assets. Review the resulting DataFrame.\n",
    "\n",
    "    > **Hint** Assuming that this ETF contains equally weighted returns, you can average the returns for each asset to get the average returns of the portfolio. You can then use the average returns of the portfolio to calculate the annualized returns and the cumulative returns. For the calculation to get the average daily returns for the portfolio, use the following code:\n",
    "    >\n",
    "    > ```python\n",
    "    > etf_portfolio_returns = etf_portfolio['daily_returns'].mean(axis=1)\n",
    "    > ```\n",
    "    >\n",
    "    > You can use the average daily returns of the portfolio the same way that you used the daily returns of a single asset.\n",
    "\n",
    "3. Use the average daily returns in the `etf_portfolio_returns` DataFrame to calculate the annualized returns for the portfolio. Display the annualized return value of the ETF portfolio.\n",
    "\n",
    "> **Hint**  To calculate the annualized returns, multiply the mean of the `etf_portfolio_returns` values by 252.\n",
    ">\n",
    "> To convert the decimal values to percentages, multiply the results by 100.\n",
    "\n",
    "4. Use the average daily returns in the `etf_portfolio_returns` DataFrame to calculate the cumulative returns of the ETF portfolio.\n",
    "\n",
    "5. Using hvPlot, create an interactive line plot that visualizes the cumulative return values of the ETF portfolio. Reflect the “time” column of the DataFrame on the x-axis. Make sure that you professionally style and format your visualization to enhance its readability.\n",
    "\n",
    "#### Deploy the Notebook as a Web Application\n",
    "\n",
    "For this part of the assignment, complete the following steps:\n",
    "\n",
    "1. Use the Voilà library to deploy your notebook as a web application. You can deploy the web application locally on your computer.\n",
    "\n",
    "2. Take a screen recording or screenshots to show how the web application appears when using Voilà. Include the recording or screenshots in the `README.md` file for your GitHub repository.\n"
   ]
  },
  {
   "cell_type": "markdown",
   "metadata": {},
   "source": [
    "## Review the following code which imports the required libraries, initiates your SQLite database, popluates the database with records from the `etf.db` seed file that was included in your Starter_Code folder, creates the database engine, and confirms that data tables that it now contains."
   ]
  },
  {
   "cell_type": "code",
   "execution_count": 21,
   "metadata": {},
   "outputs": [
    {
     "data": {
      "text/plain": [
       "['GDOT', 'GS', 'PYPL', 'SQ']"
      ]
     },
     "execution_count": 21,
     "metadata": {},
     "output_type": "execute_result"
    }
   ],
   "source": [
    "# Importing the required libraries and dependencies\n",
    "import pandas as pd\n",
    "import hvplot.pandas\n",
    "import sqlalchemy\n",
    "\n",
    "# Create a temporary SQLite database and populate the database with content from the etf.db seed file\n",
    "database_connection_string = 'sqlite:///etf.db'\n",
    "\n",
    "# Create an engine to interact with the SQLite database\n",
    "engine = sqlalchemy.create_engine(database_connection_string)\n",
    "\n",
    "# Confirm that table names contained in the SQLite database.\n",
    "sqlalchemy.inspect(engine).get_table_names()"
   ]
  },
  {
   "cell_type": "markdown",
   "metadata": {},
   "source": [
    "## Analyze a single asset in the FinTech ETF\n",
    "\n",
    "For this part of the assignment, you’ll use SQL queries with Python, Pandas, and hvPlot to analyze the performance of a single asset from the ETF.\n",
    "\n",
    "Complete the following steps:\n",
    "\n",
    "1. Write a SQL `SELECT` statement by using an f-string that reads all the PYPL data from the database. Using the SQL `SELECT` statement, execute a query that reads the PYPL data from the database into a Pandas DataFrame.\n",
    "\n",
    "2. Use the `head` and `tail` functions to review the first five and the last five rows of the DataFrame. Make a note of the beginning and end dates that are available from this dataset. You’ll use this information to complete your analysis.\n",
    "\n",
    "3. Using hvPlot, create an interactive visualization for the PYPL daily returns. Reflect the “time” column of the DataFrame on the x-axis. Make sure that you professionally style and format your visualization to enhance its readability.\n",
    "\n",
    "4. Using hvPlot, create an interactive visualization for the PYPL cumulative returns. Reflect the “time” column of the DataFrame on the x-axis. Make sure that you professionally style and format your visualization to enhance its readability.\n",
    "\n"
   ]
  },
  {
   "cell_type": "markdown",
   "metadata": {},
   "source": [
    "### Step 1: Write a SQL `SELECT` statement by using an f-string that reads all the PYPL data from the database. Using the SQL `SELECT` statement, execute a query that reads the PYPL data from the database into a Pandas DataFrame."
   ]
  },
  {
   "cell_type": "code",
   "execution_count": 22,
   "metadata": {},
   "outputs": [],
   "source": [
    "# Write a SQL query to SELECT all of the data from the PYPL table\n",
    "query = \"\"\"\n",
    "    SELECT *\n",
    "    FROM PYPL\n",
    "\"\"\"\n",
    "\n",
    "# Use the query to read the PYPL data into a Pandas DataFrame\n",
    "pypl_dataframe = pd.read_sql_query(query, engine, index_col='time', parse_dates=['time'])"
   ]
  },
  {
   "cell_type": "markdown",
   "metadata": {},
   "source": [
    "### Step 2: Use the `head` and `tail` functions to review the first five and the last five rows of the DataFrame. Make a note of the beginning and end dates that are available from this dataset. You’ll use this information to complete your analysis."
   ]
  },
  {
   "cell_type": "code",
   "execution_count": 23,
   "metadata": {},
   "outputs": [
    {
     "data": {
      "text/html": [
       "<div>\n",
       "<style scoped>\n",
       "    .dataframe tbody tr th:only-of-type {\n",
       "        vertical-align: middle;\n",
       "    }\n",
       "\n",
       "    .dataframe tbody tr th {\n",
       "        vertical-align: top;\n",
       "    }\n",
       "\n",
       "    .dataframe thead th {\n",
       "        text-align: right;\n",
       "    }\n",
       "</style>\n",
       "<table border=\"1\" class=\"dataframe\">\n",
       "  <thead>\n",
       "    <tr style=\"text-align: right;\">\n",
       "      <th></th>\n",
       "      <th>open</th>\n",
       "      <th>high</th>\n",
       "      <th>low</th>\n",
       "      <th>close</th>\n",
       "      <th>volume</th>\n",
       "      <th>daily_returns</th>\n",
       "    </tr>\n",
       "    <tr>\n",
       "      <th>time</th>\n",
       "      <th></th>\n",
       "      <th></th>\n",
       "      <th></th>\n",
       "      <th></th>\n",
       "      <th></th>\n",
       "      <th></th>\n",
       "    </tr>\n",
       "  </thead>\n",
       "  <tbody>\n",
       "    <tr>\n",
       "      <th>2016-12-16</th>\n",
       "      <td>39.90</td>\n",
       "      <td>39.90</td>\n",
       "      <td>39.12</td>\n",
       "      <td>39.32</td>\n",
       "      <td>7298861</td>\n",
       "      <td>-0.005564</td>\n",
       "    </tr>\n",
       "    <tr>\n",
       "      <th>2016-12-19</th>\n",
       "      <td>39.40</td>\n",
       "      <td>39.80</td>\n",
       "      <td>39.11</td>\n",
       "      <td>39.45</td>\n",
       "      <td>3436478</td>\n",
       "      <td>0.003306</td>\n",
       "    </tr>\n",
       "    <tr>\n",
       "      <th>2016-12-20</th>\n",
       "      <td>39.61</td>\n",
       "      <td>39.74</td>\n",
       "      <td>39.26</td>\n",
       "      <td>39.74</td>\n",
       "      <td>2940991</td>\n",
       "      <td>0.007351</td>\n",
       "    </tr>\n",
       "    <tr>\n",
       "      <th>2016-12-21</th>\n",
       "      <td>39.84</td>\n",
       "      <td>40.74</td>\n",
       "      <td>39.82</td>\n",
       "      <td>40.09</td>\n",
       "      <td>5826704</td>\n",
       "      <td>0.008807</td>\n",
       "    </tr>\n",
       "    <tr>\n",
       "      <th>2016-12-22</th>\n",
       "      <td>40.04</td>\n",
       "      <td>40.09</td>\n",
       "      <td>39.54</td>\n",
       "      <td>39.68</td>\n",
       "      <td>4338385</td>\n",
       "      <td>-0.010227</td>\n",
       "    </tr>\n",
       "  </tbody>\n",
       "</table>\n",
       "</div>"
      ],
      "text/plain": [
       "             open   high    low  close   volume  daily_returns\n",
       "time                                                          \n",
       "2016-12-16  39.90  39.90  39.12  39.32  7298861      -0.005564\n",
       "2016-12-19  39.40  39.80  39.11  39.45  3436478       0.003306\n",
       "2016-12-20  39.61  39.74  39.26  39.74  2940991       0.007351\n",
       "2016-12-21  39.84  40.74  39.82  40.09  5826704       0.008807\n",
       "2016-12-22  40.04  40.09  39.54  39.68  4338385      -0.010227"
      ]
     },
     "execution_count": 23,
     "metadata": {},
     "output_type": "execute_result"
    }
   ],
   "source": [
    "# View the first 5 rows of the DataFrame.\n",
    "pypl_dataframe.head()"
   ]
  },
  {
   "cell_type": "code",
   "execution_count": 24,
   "metadata": {},
   "outputs": [
    {
     "data": {
      "text/html": [
       "<div>\n",
       "<style scoped>\n",
       "    .dataframe tbody tr th:only-of-type {\n",
       "        vertical-align: middle;\n",
       "    }\n",
       "\n",
       "    .dataframe tbody tr th {\n",
       "        vertical-align: top;\n",
       "    }\n",
       "\n",
       "    .dataframe thead th {\n",
       "        text-align: right;\n",
       "    }\n",
       "</style>\n",
       "<table border=\"1\" class=\"dataframe\">\n",
       "  <thead>\n",
       "    <tr style=\"text-align: right;\">\n",
       "      <th></th>\n",
       "      <th>open</th>\n",
       "      <th>high</th>\n",
       "      <th>low</th>\n",
       "      <th>close</th>\n",
       "      <th>volume</th>\n",
       "      <th>daily_returns</th>\n",
       "    </tr>\n",
       "    <tr>\n",
       "      <th>time</th>\n",
       "      <th></th>\n",
       "      <th></th>\n",
       "      <th></th>\n",
       "      <th></th>\n",
       "      <th></th>\n",
       "      <th></th>\n",
       "    </tr>\n",
       "  </thead>\n",
       "  <tbody>\n",
       "    <tr>\n",
       "      <th>2020-11-30</th>\n",
       "      <td>212.51</td>\n",
       "      <td>215.83</td>\n",
       "      <td>207.0900</td>\n",
       "      <td>214.200</td>\n",
       "      <td>8992681</td>\n",
       "      <td>0.013629</td>\n",
       "    </tr>\n",
       "    <tr>\n",
       "      <th>2020-12-01</th>\n",
       "      <td>217.15</td>\n",
       "      <td>220.57</td>\n",
       "      <td>214.3401</td>\n",
       "      <td>216.520</td>\n",
       "      <td>9148174</td>\n",
       "      <td>0.010831</td>\n",
       "    </tr>\n",
       "    <tr>\n",
       "      <th>2020-12-02</th>\n",
       "      <td>215.60</td>\n",
       "      <td>215.75</td>\n",
       "      <td>210.5000</td>\n",
       "      <td>212.660</td>\n",
       "      <td>6414746</td>\n",
       "      <td>-0.017827</td>\n",
       "    </tr>\n",
       "    <tr>\n",
       "      <th>2020-12-03</th>\n",
       "      <td>213.33</td>\n",
       "      <td>216.93</td>\n",
       "      <td>213.1100</td>\n",
       "      <td>214.680</td>\n",
       "      <td>6463339</td>\n",
       "      <td>0.009499</td>\n",
       "    </tr>\n",
       "    <tr>\n",
       "      <th>2020-12-04</th>\n",
       "      <td>214.88</td>\n",
       "      <td>217.28</td>\n",
       "      <td>213.0100</td>\n",
       "      <td>217.235</td>\n",
       "      <td>2118319</td>\n",
       "      <td>0.011901</td>\n",
       "    </tr>\n",
       "  </tbody>\n",
       "</table>\n",
       "</div>"
      ],
      "text/plain": [
       "              open    high       low    close   volume  daily_returns\n",
       "time                                                                 \n",
       "2020-11-30  212.51  215.83  207.0900  214.200  8992681       0.013629\n",
       "2020-12-01  217.15  220.57  214.3401  216.520  9148174       0.010831\n",
       "2020-12-02  215.60  215.75  210.5000  212.660  6414746      -0.017827\n",
       "2020-12-03  213.33  216.93  213.1100  214.680  6463339       0.009499\n",
       "2020-12-04  214.88  217.28  213.0100  217.235  2118319       0.011901"
      ]
     },
     "execution_count": 24,
     "metadata": {},
     "output_type": "execute_result"
    }
   ],
   "source": [
    "# View the last 5 rows of the DataFrame.\n",
    "pypl_dataframe.tail()"
   ]
  },
  {
   "cell_type": "markdown",
   "metadata": {},
   "source": [
    "### Step 3: Using hvPlot, create an interactive visualization for the PYPL daily returns. Reflect the “time” column of the DataFrame on the x-axis. Make sure that you professionally style and format your visualization to enhance its readability."
   ]
  },
  {
   "cell_type": "code",
   "execution_count": 25,
   "metadata": {},
   "outputs": [
    {
     "data": {},
     "metadata": {},
     "output_type": "display_data"
    },
    {
     "data": {},
     "metadata": {},
     "output_type": "display_data"
    },
    {
     "data": {
      "application/vnd.holoviews_exec.v0+json": "",
      "text/html": [
       "<div id='1617'>\n",
       "\n",
       "\n",
       "\n",
       "\n",
       "\n",
       "  <div class=\"bk-root\" id=\"f5dd2a8d-7b83-4209-b48c-ef5fc20d453f\" data-root-id=\"1617\"></div>\n",
       "</div>\n",
       "<script type=\"application/javascript\">(function(root) {\n",
       "  function embed_document(root) {\n",
       "    var docs_json = {\"a76fe40d-1317-4fac-afe0-f5a5e8f50d94\":{\"defs\":[{\"extends\":null,\"module\":null,\"name\":\"ReactiveHTML1\",\"overrides\":[],\"properties\":[]},{\"extends\":null,\"module\":null,\"name\":\"FlexBox1\",\"overrides\":[],\"properties\":[{\"default\":\"flex-start\",\"kind\":null,\"name\":\"align_content\"},{\"default\":\"flex-start\",\"kind\":null,\"name\":\"align_items\"},{\"default\":\"row\",\"kind\":null,\"name\":\"flex_direction\"},{\"default\":\"wrap\",\"kind\":null,\"name\":\"flex_wrap\"},{\"default\":\"flex-start\",\"kind\":null,\"name\":\"justify_content\"}]},{\"extends\":null,\"module\":null,\"name\":\"TemplateActions1\",\"overrides\":[],\"properties\":[{\"default\":0,\"kind\":null,\"name\":\"open_modal\"},{\"default\":0,\"kind\":null,\"name\":\"close_modal\"}]},{\"extends\":null,\"module\":null,\"name\":\"MaterialTemplateActions1\",\"overrides\":[],\"properties\":[{\"default\":0,\"kind\":null,\"name\":\"open_modal\"},{\"default\":0,\"kind\":null,\"name\":\"close_modal\"}]}],\"roots\":{\"references\":[{\"attributes\":{\"axis\":{\"id\":\"1635\"},\"dimension\":1,\"grid_line_color\":null,\"ticker\":null},\"id\":\"1638\",\"type\":\"Grid\"},{\"attributes\":{\"months\":[0,1,2,3,4,5,6,7,8,9,10,11]},\"id\":\"1683\",\"type\":\"MonthsTicker\"},{\"attributes\":{\"axis_label\":\"Daily Return (%)\",\"formatter\":{\"id\":\"1666\"},\"major_label_policy\":{\"id\":\"1664\"},\"ticker\":{\"id\":\"1636\"}},\"id\":\"1635\",\"type\":\"LinearAxis\"},{\"attributes\":{\"months\":[0,2,4,6,8,10]},\"id\":\"1684\",\"type\":\"MonthsTicker\"},{\"attributes\":{},\"id\":\"1664\",\"type\":\"AllLabels\"},{\"attributes\":{\"months\":[0,4,8]},\"id\":\"1685\",\"type\":\"MonthsTicker\"},{\"attributes\":{\"line_alpha\":0.1,\"line_color\":\"#30a2da\",\"line_width\":2,\"x\":{\"field\":\"time\"},\"y\":{\"field\":\"daily_returns\"}},\"id\":\"1656\",\"type\":\"Line\"},{\"attributes\":{\"months\":[0,6]},\"id\":\"1686\",\"type\":\"MonthsTicker\"},{\"attributes\":{\"data_source\":{\"id\":\"1652\"},\"glyph\":{\"id\":\"1655\"},\"hover_glyph\":null,\"muted_glyph\":{\"id\":\"1657\"},\"nonselection_glyph\":{\"id\":\"1656\"},\"selection_glyph\":{\"id\":\"1660\"},\"view\":{\"id\":\"1659\"}},\"id\":\"1658\",\"type\":\"GlyphRenderer\"},{\"attributes\":{\"children\":[{\"id\":\"1622\"}],\"margin\":[0,0,0,0],\"name\":\"Row02157\",\"tags\":[\"embedded\"]},\"id\":\"1617\",\"type\":\"Row\"},{\"attributes\":{\"active_multi\":null,\"tools\":[{\"id\":\"1621\"},{\"id\":\"1639\"},{\"id\":\"1640\"},{\"id\":\"1641\"},{\"id\":\"1642\"},{\"id\":\"1643\"}]},\"id\":\"1645\",\"type\":\"Toolbar\"},{\"attributes\":{\"line_color\":\"#30a2da\",\"line_width\":2,\"x\":{\"field\":\"time\"},\"y\":{\"field\":\"daily_returns\"}},\"id\":\"1655\",\"type\":\"Line\"},{\"attributes\":{\"mantissas\":[1,2,5],\"max_interval\":500.0,\"num_minor_ticks\":0},\"id\":\"1676\",\"type\":\"AdaptiveTicker\"},{\"attributes\":{\"line_alpha\":0.2,\"line_color\":\"#30a2da\",\"line_width\":2,\"x\":{\"field\":\"time\"},\"y\":{\"field\":\"daily_returns\"}},\"id\":\"1657\",\"type\":\"Line\"},{\"attributes\":{},\"id\":\"1687\",\"type\":\"YearsTicker\"},{\"attributes\":{},\"id\":\"1639\",\"type\":\"SaveTool\"},{\"attributes\":{},\"id\":\"1653\",\"type\":\"Selection\"},{\"attributes\":{\"axis_label\":\"Date\",\"formatter\":{\"id\":\"1663\"},\"major_label_orientation\":0.7853981633974483,\"major_label_policy\":{\"id\":\"1661\"},\"ticker\":{\"id\":\"1632\"}},\"id\":\"1631\",\"type\":\"DatetimeAxis\"},{\"attributes\":{},\"id\":\"1640\",\"type\":\"PanTool\"},{\"attributes\":{\"below\":[{\"id\":\"1631\"}],\"center\":[{\"id\":\"1634\"},{\"id\":\"1638\"}],\"height\":400,\"left\":[{\"id\":\"1635\"}],\"margin\":[5,5,5,5],\"min_border_bottom\":10,\"min_border_left\":10,\"min_border_right\":10,\"min_border_top\":10,\"renderers\":[{\"id\":\"1658\"}],\"sizing_mode\":\"stretch_width\",\"title\":{\"id\":\"1623\"},\"toolbar\":{\"id\":\"1645\"},\"width\":null,\"x_range\":{\"id\":\"1619\"},\"x_scale\":{\"id\":\"1627\"},\"y_range\":{\"id\":\"1620\"},\"y_scale\":{\"id\":\"1629\"}},\"id\":\"1622\",\"subtype\":\"Figure\",\"type\":\"Plot\"},{\"attributes\":{},\"id\":\"1641\",\"type\":\"WheelZoomTool\"},{\"attributes\":{\"line_color\":\"#30a2da\",\"line_width\":2,\"x\":{\"field\":\"time\"},\"y\":{\"field\":\"daily_returns\"}},\"id\":\"1660\",\"type\":\"Line\"},{\"attributes\":{\"overlay\":{\"id\":\"1644\"}},\"id\":\"1642\",\"type\":\"BoxZoomTool\"},{\"attributes\":{},\"id\":\"1674\",\"type\":\"UnionRenderers\"},{\"attributes\":{\"text\":\"PYPL Daily Returns\",\"text_color\":\"black\",\"text_font_size\":\"12pt\"},\"id\":\"1623\",\"type\":\"Title\"},{\"attributes\":{\"data\":{\"daily_returns\":{\"__ndarray__\":\"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\",\"dtype\":\"float64\",\"order\":\"little\",\"shape\":[999]},\"time\":{\"__ndarray__\":\"AABA2k6QdUIAAIALRpF1QgAAQHGYkXVCAAAA1+qRdUIAAMA8PZJ1QgAAgKKPknVCAACAOdmTdUIAAECfK5R1QgAAAAV+lHVCAADAatCUdUIAAMABGpZ1QgAAgGdslnVCAABAzb6WdUIAAAAzEZd1QgAAQGQImHVCAAAAylqYdUIAAMAvrZh1QgAAgJX/mHVCAABA+1GZdUIAAECSm5p1QgAAAPjtmnVCAADAXUCbdUIAAIDDkpt1QgAAwPSJnHVCAACAWtycdUIAAEDALp11QgAAACaBnXVCAADAi9OddUIAAAC9yp51QgAAwCIdn3VCAACAiG+fdUIAAEDuwZ91QgAAAFQUoHVCAABAhQuhdUIAAADrXaF1QgAAwFCwoXVCAACAtgKidUIAAEAcVaJ1QgAAgE1Mo3VCAABAs56jdUIAAAAZ8aN1QgAAwH5DpHVCAACA5JWkdUIAAIB736V1QgAAQOExpnVCAAAAR4SmdUIAAMCs1qZ1QgAAAN7Np3VCAADAQyCodUIAAICpcqh1QgAAQA/FqHVCAAAAdRepdUIAAECmDqp1QgAAAAxhqnVCAADAcbOqdUIAAIDXBat1QgAAQD1Yq3VCAACAbk+sdUIAAEDUoax1QgAAADr0rHVCAADAn0atdUIAAIAFma11QgAAwDaQrnVCAACAnOKudUIAAEACNa91QgAAAGiHr3VCAADAzdmvdUIAAAD/0LB1QgAAwGQjsXVCAACAynWxdUIAAEAwyLF1QgAAAJYasnVCAABAxxGzdUIAAAAtZLN1QgAAwJK2s3VCAACA+Ai0dUIAAEBeW7R1QgAAgI9StXVCAABA9aS1dUIAAABb97V1QgAAwMBJtnVCAADAV5O3dUIAAIC95bd1QgAAQCM4uHVCAAAAiYq4dUIAAMDu3Lh1QgAAACDUuXVCAADAhSa6dUIAAIDreLp1QgAAQFHLunVCAAAAtx27dUIAAEDoFLx1QgAAAE5nvHVCAADAs7m8dUIAAIAZDL11QgAAQH9evXVCAACAsFW+dUIAAEAWqL51QgAAAHz6vnVCAADA4Uy/dUIAAIBHn791QgAAwHiWwHVCAACA3ujAdUIAAEBEO8F1QgAAAKqNwXVCAADAD+DBdUIAAABB18J1QgAAwKYpw3VCAACADHzDdUIAAEByzsN1QgAAANggxHVCAAAAb2rFdUIAAMDUvMV1QgAAgDoPxnVCAABAoGHGdUIAAIDRWMd1QgAAQDerx3VCAAAAnf3HdUIAAMACUMh1QgAAgGiiyHVCAADAmZnJdUIAAID/68l1QgAAQGU+ynVCAAAAy5DKdUIAAMAw48p1QgAAAGLay3VCAADAxyzMdUIAAIAtf8x1QgAAQJPRzHVCAAAA+SPNdUIAAEAqG851QgAAAJBtznVCAADA9b/OdUIAAIBbEs91QgAAQMFkz3VCAACA8lvQdUIAAAC+ANF1QgAAwCNT0XVCAACAiaXRdUIAAMC6nNJ1QgAAgCDv0nVCAABAhkHTdUIAAADsk9N1QgAAwFHm03VCAAAAg93UdUIAAMDoL9V1QgAAgE6C1XVCAABAtNTVdUIAAAAaJ9Z1QgAAQEse13VCAAAAsXDXdUIAAMAWw9d1QgAAgHwV2HVCAABA4mfYdUIAAIATX9l1QgAAQHmx2XVCAAAA3wPadUIAAMBEVtp1QgAAgKqo2nVCAADA25/bdUIAAIBB8tt1QgAAQKdE3HVCAAAADZfcdUIAAMBy6dx1QgAAAKTg3XVCAADACTPedUIAAIBvhd51QgAAQNXX3nVCAAAAOyrfdUIAAEBsIeB1QgAAANJz4HVCAADAN8bgdUIAAICdGOF1QgAAQANr4XVCAACANGLidUIAAECatOJ1QgAAAAAH43VCAADAZVnjdUIAAIDLq+N1QgAAgGL15HVCAABAyEfldUIAAAAumuV1QgAAwJPs5XVCAAAAxePmdUIAAMAqNud1QgAAgJCI53VCAABA9trndUIAAABcLeh1QgAAQI0k6XVCAAAA83bpdUIAAMBYyel1QgAAgL4b6nVCAABAJG7qdUIAAIBVZet1QgAAQLu363VCAAAAIQrsdUIAAMCGXOx1QgAAgOyu7HVCAADAHabtdUIAAICD+O11QgAAQOlK7nVCAAAAT53udUIAAMC07+51QgAAAObm73VCAADASznwdUIAAICxi/B1QgAAQBfe8HVCAAAAfTDxdUIAAECuJ/J1QgAAABR68nVCAADAeczydUIAAIDfHvN1QgAAQEVx83VCAACAdmj0dUIAAEDcuvR1QgAAAEIN9XVCAADAp1/1dUIAAIANsvV1QgAAwD6p9nVCAACApPv2dUIAAEAKTvd1QgAAAHCg93VCAADA1fL3dUIAAAAH6vh1QgAAwGw8+XVCAACA0o75dUIAAEA44fl1QgAAAJ4z+nVCAABAzyr7dUIAAAA1fft1QgAAwJrP+3VCAACAACL8dUIAAEBmdPx1QgAAgJdr/XVCAABA/b39dUIAAABjEP51QgAAgC61/nVCAADAX6z/dUIAAIDF/v91QgAAQCtRAHZCAAAAkaMAdkIAAMD29QB2QgAAACjtAXZCAADAjT8CdkIAAIDzkQJ2QgAAQFnkAnZCAAAAvzYDdkIAAEDwLQR2QgAAAFaABHZCAADAu9IEdkIAAIAhJQV2QgAAQId3BXZCAACAuG4GdkIAAEAewQZ2QgAAAIQTB3ZCAADA6WUHdkIAAIBPuAd2QgAAgOYBCXZCAABATFQJdkIAAACypgl2QgAAwBf5CXZCAADArkILdkIAAIAUlQt2QgAAQHrnC3ZCAAAA4DkMdkIAAEARMQ12QgAAAHeDDXZCAADA3NUNdkIAAIBCKA52QgAAQKh6DnZCAABAP8QPdkIAAAClFhB2QgAAwAppEHZCAACAcLsQdkIAAMChshF2QgAAgAcFEnZCAABAbVcSdkIAAADTqRJ2QgAAwDj8EnZCAAAAavMTdkIAAMDPRRR2QgAAgDWYFHZCAABAm+oUdkIAAAABPRV2QgAAQDI0FnZCAAAAmIYWdkIAAMD92BZ2QgAAgGMrF3ZCAABAyX0XdkIAAID6dBh2QgAAQGDHGHZCAAAAxhkZdkIAAMArbBl2QgAAgJG+GXZCAACAKAgbdkIAAECOWht2QgAAAPSsG3ZCAADAWf8bdkIAAACL9hx2QgAAwPBIHXZCAACAVpsddkIAAEC87R12QgAAACJAHnZCAABAUzcfdkIAAAC5iR92QgAAwB7cH3ZCAACAhC4gdkIAAEDqgCB2QgAAgBt4IXZCAABAgcohdkIAAADnHCJ2QgAAwExvInZCAACAssEidkIAAMDjuCN2QgAAgEkLJHZCAABAr10kdkIAAAAVsCR2QgAAwHoCJXZCAAAArPkldkIAAMARTCZ2QgAAgHeeJnZCAABA3fAmdkIAAEB0Oih2QgAAANqMKHZCAADAP98odkIAAIClMSl2QgAAQAuEKXZCAACAPHsqdkIAAECizSp2QgAAAAggK3ZCAADAbXIrdkIAAIDTxCt2QgAAwAS8LHZCAACAag4tdkIAAEDQYC12QgAAADazLXZCAADAmwUudkIAAADN/C52QgAAwDJPL3ZCAACAmKEvdkIAAED+8y92QgAAAGRGMHZCAABAlT0xdkIAAAD7jzF2QgAAwGDiMXZCAACAxjQydkIAAEAshzJ2QgAAgF1+M3ZCAABAw9AzdkIAAAApIzR2QgAAwI51NHZCAACA9Mc0dkIAAMAlvzV2QgAAgIsRNnZCAABA8WM2dkIAAABXtjZ2QgAAwLwIN3ZCAAAA7v83dkIAAMBTUjh2QgAAgLmkOHZCAABAH/c4dkIAAACFSTl2QgAAAByTOnZCAADAgeU6dkIAAIDnNzt2QgAAQE2KO3ZCAACAfoE8dkIAAEDk0zx2QgAAAEomPXZCAADAr3g9dkIAAIAVyz12QgAAwEbCPnZCAACArBQ/dkIAAEASZz92QgAAAHi5P3ZCAADA3QtAdkIAAAAPA0F2QgAAwHRVQXZCAACA2qdBdkIAAEBA+kF2QgAAAKZMQnZCAABA10NDdkIAAAA9lkN2QgAAwKLoQ3ZCAACACDtEdkIAAEBujUR2QgAAgJ+ERXZCAABABddFdkIAAMDQe0Z2QgAAgDbORnZCAADAZ8VHdkIAAIDNF0h2QgAAQDNqSHZCAAAAmbxIdkIAAMD+Dkl2QgAAADAGSnZCAADAlVhKdkIAAID7qkp2QgAAQGH9SnZCAAAAx09LdkIAAED4Rkx2QgAAAF6ZTHZCAADAw+tMdkIAAIApPk12QgAAQI+QTXZCAACAwIdOdkIAAEAm2k52QgAAAIwsT3ZCAADA8X5PdkIAAIBX0U92QgAAwIjIUHZCAACA7hpRdkIAAEBUbVF2QgAAALq/UXZCAADAHxJSdkIAAABRCVN2QgAAwLZbU3ZCAACAHK5TdkIAAECCAFR2QgAAAOhSVHZCAABAGUpVdkIAAAB/nFV2QgAAwOTuVXZCAACASkFWdkIAAECwk1Z2QgAAgOGKV3ZCAABAR91XdkIAAACtL1h2QgAAwBKCWHZCAACAeNRYdkIAAIAPHlp2QgAAQHVwWnZCAAAA28JadkIAAMBAFVt2QgAAAHIMXHZCAADA115cdkIAAIA9sVx2QgAAQKMDXXZCAAAACVZddkIAAEA6TV52QgAAAKCfXnZCAADABfJedkIAAIBrRF92QgAAQNGWX3ZCAACAAo5gdkIAAEBo4GB2QgAAAM4yYXZCAADAM4VhdkIAAICZ12F2QgAAwMrOYnZCAACAMCFjdkIAAECWc2N2QgAAAPzFY3ZCAADAYRhkdkIAAACTD2V2QgAAwPhhZXZCAACAXrRldkIAAEDEBmZ2QgAAACpZZnZCAABAW1BndkIAAADBomd2QgAAwCb1Z3ZCAACAjEdodkIAAEDymWh2QgAAgCORaXZCAABAieNpdkIAAADvNWp2QgAAwFSIanZCAACAutpqdkIAAMDr0Wt2QgAAgFEkbHZCAABAt3ZsdkIAAAAdyWx2QgAAwIIbbXZCAAAAtBJudkIAAMAZZW52QgAAgH+3bnZCAABA5QlvdkIAAABLXG92QgAAQHxTcHZCAAAA4qVwdkIAAMBH+HB2QgAAgK1KcXZCAABAE51xdkIAAIBElHJ2QgAAQKrmcnZCAAAAEDlzdkIAAIDb3XN2QgAAwAzVdHZCAACAcid1dkIAAEDYeXV2QgAAAD7MdXZCAADAox52dkIAAADVFXd2QgAAwDpod3ZCAABABg14dkIAAABsX3h2QgAAQJ1WeXZCAAAAA6l5dkIAAMBo+3l2QgAAgM5NenZCAABANKB6dkIAAIBll3t2QgAAQMvpe3ZCAAAAMTx8dkIAAMCWjnx2QgAAgPzgfHZCAADALdh9dkIAAED5fH52QgAAAF/PfnZCAADAxCF/dkIAAAD2GIB2QgAAgMG9gHZCAABAJxCBdkIAAACNYoF2QgAAQL5ZgnZCAAAAJKyCdkIAAMCJ/oJ2QgAAgO9Qg3ZCAABAVaODdkIAAICGmoR2QgAAQOzshHZCAAAAUj+FdkIAAMC3kYV2QgAAgB3khXZCAACAtC2HdkIAAEAagId2QgAAAIDSh3ZCAADA5SSIdkIAAAAXHIl2QgAAwHxuiXZCAACA4sCJdkIAAEBIE4p2QgAAAK5linZCAABA31yLdkIAAABFr4t2QgAAwKoBjHZCAACAEFSMdkIAAEB2pox2QgAAgKedjXZCAABADfCNdkIAAABzQo52QgAAwNiUjnZCAACAPueOdkIAAIDVMJB2QgAAQDuDkHZCAAAAodWQdkIAAMAGKJF2QgAAADgfknZCAADAnXGSdkIAAIADxJJ2QgAAQGkWk3ZCAAAAz2iTdkIAAEAAYJR2QgAAAGaylHZCAADAywSVdkIAAIAxV5V2QgAAQJeplXZCAACAyKCWdkIAAEAu85Z2QgAAAJRFl3ZCAADA+ZeXdkIAAIBf6pd2QgAAwJDhmHZCAACA9jOZdkIAAEBchpl2QgAAAMLYmXZCAADAJyuadkIAAABZIpt2QgAAwL50m3ZCAACAJMebdkIAAECKGZx2QgAAAPBrnHZCAABAIWOddkIAAACHtZ12QgAAwOwHnnZCAACAUlqedkIAAEC4rJ52QgAAgOmjn3ZCAABAT/afdkIAAAC1SKB2QgAAwBqboHZCAACAgO2gdkIAAMCx5KF2QgAAgBc3onZCAABAfYmidkIAAADj26J2QgAAAHolpHZCAADA33ekdkIAAIBFyqR2QgAAQKscpXZCAAAAEW+ldkIAAEBCZqZ2QgAAAKi4pnZCAADADQundkIAAIBzXad2QgAAQNmvp3ZCAACACqeodkIAAEBw+ah2QgAAANZLqXZCAADAO56pdkIAAICh8Kl2QgAAwNLnqnZCAACAODqrdkIAAECejKt2QgAAAATfq3ZCAADAaTGsdkIAAACbKK12QgAAwAB7rXZCAACAZs2tdkIAAEDMH652QgAAADJyrnZCAAAAybuvdkIAAMAuDrB2QgAAgJRgsHZCAABA+rKwdkIAAIArqrF2QgAAQJH8sXZCAAAA906ydkIAAMBcobJ2QgAAgMLzsnZCAADA8+qzdkIAAIBZPbR2QgAAQL+PtHZCAAAAJeK0dkIAAMCKNLV2QgAAALwrtnZCAADAIX62dkIAAICH0LZ2QgAAQO0it3ZCAAAAU3W3dkIAAECEbLh2QgAAAOq+uHZCAADATxG5dkIAAIC1Y7l2QgAAQBu2uXZCAACATK26dkIAAECy/7p2QgAAABhSu3ZCAACA4/a7dkIAAMAU7rx2QgAAgHpAvXZCAABA4JK9dkIAAABG5b12QgAAwKs3vnZCAAAA3S6/dkIAAMBCgb92QgAAgKjTv3ZCAABADibAdkIAAAB0eMB2QgAAQKVvwXZCAAAAC8LBdkIAAMBwFMJ2QgAAgNZmwnZCAABAPLnCdkIAAIBtsMN2QgAAQNMCxHZCAAAAOVXEdkIAAMCep8R2QgAAgAT6xHZCAADANfHFdkIAAICbQ8Z2QgAAQAGWxnZCAAAAZ+jGdkIAAMDMOsd2QgAAAP4xyHZCAADAY4TIdkIAAIDJ1sh2QgAAQC8pyXZCAAAAlXvJdkIAAEDGcsp2QgAAACzFynZCAADAkRfLdkIAAID3act2QgAAQF28y3ZCAACAjrPMdkIAAED0Bc12QgAAAFpYzXZCAADAv6rNdkIAAIAl/c12QgAAgLxGz3ZCAABAIpnPdkIAAACI6892QgAAwO090HZCAAAAHzXRdkIAAMCEh9F2QgAAgOrZ0XZCAABAUCzSdkIAAAC2ftJ2QgAAQOd103ZCAAAATcjTdkIAAMCyGtR2QgAAgBht1HZCAABAfr/UdkIAAICvttV2QgAAQBUJ1nZCAAAAe1vWdkIAAMDgrdZ2QgAAgEYA13ZCAADAd/fXdkIAAIDdSdh2QgAAQEOc2HZCAAAAqe7YdkIAAMAOQdl2QgAAAEA42nZCAADApYradkIAAIAL3dp2QgAAQHEv23ZCAAAA14HbdkIAAEAIedx2QgAAAG7L3HZCAADA0x3ddkIAAIA5cN12QgAAQJ/C3XZCAACA0LnedkIAAEA2DN92QgAAAJxe33ZCAADAAbHfdkIAAIBnA+B2QgAAwJj64HZCAACA/kzhdkIAAEBkn+F2QgAAAMrx4XZCAADAL0TidkIAAABhO+N2QgAAwMaN43ZCAACALODjdkIAAECSMuR2QgAAAPiE5HZCAABAKXzldkIAAACPzuV2QgAAwPQg5nZCAACAWnPmdkIAAEDAxeZ2QgAAgPG853ZCAABAVw/odkIAAAC9Yeh2QgAAwCK06HZCAACAiAbpdkIAAMC5/el2QgAAgB9Q6nZCAABAhaLqdkIAAMBQR+t2QgAAAII+7HZCAADA55DsdkIAAIBN4+x2QgAAQLM17XZCAAAAGYjtdkIAAEBKf+52QgAAALDR7nZCAADAFSTvdkIAAIB7du92QgAAQOHI73ZCAACAEsDwdkIAAEB4EvF2QgAAAN5k8XZCAADAQ7fxdkIAAICpCfJ2QgAAwNoA83ZCAACAQFPzdkIAAAAM+PN2QgAAwHFK9HZCAAAAo0H1dkIAAMAIlPV2QgAAQNQ49nZCAAAAOov2dkIAAEBrgvd2QgAAANHU93ZCAADANif4dkIAAICcefh2QgAAQALM+HZCAACAM8P5dkIAAECZFfp2QgAAAP9n+nZCAADAZLr6dkIAAIDKDPt2QgAAgGFW/HZCAABAx6j8dkIAAAAt+/x2QgAAwJJN/XZCAAAAxET+dkIAAMApl/52QgAAgI/p/nZCAABA9Tv/dkIAAABbjv92QgAAQIyFAHdCAAAA8tcAd0IAAMBXKgF3QgAAgL18AXdCAABAI88Bd0IAAIBUxgJ3QgAAQLoYA3dCAAAAIGsDd0IAAMCFvQN3QgAAgOsPBHdCAACAglkFd0IAAEDoqwV3QgAAAE7+BXdCAADAs1AGd0IAAADlRwd3QgAAwEqaB3dCAACAsOwHd0IAAEAWPwh3QgAAAHyRCHdCAABArYgJd0IAAAAT2wl3QgAAwHgtCndCAACA3n8Kd0IAAEBE0gp3QgAAgHXJC3dCAABA2xsMd0IAAABBbgx3QgAAwKbADHdCAACADBMNd0IAAMA9Cg53QgAAgKNcDndCAABACa8Od0IAAABvAQ93QgAAwNRTD3dCAAAABksQd0IAAMBrnRB3QgAAgNHvEHdCAABAN0IRd0IAAACdlBF3QgAAQM6LEndCAAAANN4Sd0IAAMCZMBN3QgAAgP+CE3dCAABAZdUTd0IAAICWzBR3QgAAQPweFXdCAAAAYnEVd0IAAMDHwxV3QgAAwF4NF3dCAACAxF8Xd0IAAEAqshd3QgAAAJAEGHdCAADA9VYYd0IAAAAnThl3QgAAwIygGXdCAACA8vIZd0IAAEBYRRp3QgAAAL6XGndCAABA744bd0IAAABV4Rt3QgAAwLozHHdCAACAIIYcd0IAAECG2Bx3QgAAgLfPHXdCAABAHSIed0IAAACDdB53QgAAwOjGHndCAACAThkfd0IAAMB/ECB3QgAAgOViIHdCAABAS7Ugd0IAAACxByF3QgAAwBZaIXdCAAAASFEid0IAAMCtoyJ3QgAAgBP2IndCAABAeUgjd0IAAADfmiN3QgAAAHbkJHdCAADA2zYld0IAAIBBiSV3QgAAQKfbJXdCAACA2NImd0IAAEA+JSd3QgAAAKR3J3dCAADACcond0IAAIBvHCh3QgAAwKATKXdCAACABmYpd0IAAEBsuCl3QgAAANIKKndCAADAN10qd0IAAABpVCt3QgAAwM6mK3dCAACANPkrd0IAAECaSyx3QgAAAACeLHdCAABAMZUtd0IAAACX5y13QgAAwPw5LndCAACAYowud0IAAEDI3i53QgAAgPnVL3dCAABAXygwd0IAAADFejB3QgAAwCrNMHdCAADAwRYyd0IAAIAnaTJ3QgAAQI27MndCAAAA8w0zd0IAAMBYYDN3QgAAAIpXNHdCAADA76k0d0IAAIBV/DR3QgAAQLtONXdCAAAAIaE1d0IAAEBSmDZ3QgAAALjqNndCAADAHT03d0IAAICDjzd3QgAAQOnhN3dCAACAGtk4d0IAAECAKzl3QgAAAOZ9OXdCAADAS9A5d0IAAICxIjp3QgAAwOIZO3dCAACASGw7d0IAAECuvjt3QgAAABQRPHdCAADAeWM8d0IAAACrWj13QgAAwBCtPXdCAACAdv89d0IAAEDcUT53QgAAAEKkPndCAABAc5s/d0IAAADZ7T93QgAAwD5AQHdCAACApJJAd0IAAEAK5UB3QgAAgDvcQXdCAABAoS5Cd0IAAAAHgUJ3QgAAwGzTQndCAACA0iVDd0IAAMADHUR3QgAAgGlvRHdCAABAz8FEd0IAAAA1FEV3QgAAwJpmRXdCAADAMbBGd0IAAICXAkd3QgAAQP1UR3dCAAAAY6dHd0IAAECUnkh3QgAAAPrwSHdCAADAX0NJd0IAAIDFlUl3QgAAQCvoSXdCAACAXN9Kd0IAAEDCMUt3QgAAACiES3dCAADAjdZLd0IAAIDzKEx3QgAAwCQgTXdCAACAinJNd0IAAEDwxE13QgAAAFYXTndCAADAu2lOd0IAAADtYE93QgAAwFKzT3dCAACAuAVQd0IAAEAeWFB3QgAAAISqUHdCAABAtaFRd0IAAAAb9FF3QgAAwIBGUndCAACA5phSd0IAAEBM61J3QgAAgH3iU3dCAABA4zRUd0IAAABJh1R3QgAAwK7ZVHdCAACAFCxVd0IAAMBFI1Z3QgAAgKt1VndCAABAEchWd0IAAAB3Gld3QgAAwNxsV3dCAAAADmRYd0IAAMBztlh3QgAAgNkIWXdCAABAP1tZd0IAAAClrVl3QgAAQNakWndCAAAAPPdad0IAAMChSVt3QgAAgAecW3dCAABAbe5bd0IAAICe5Vx3QgAAQAQ4XXdCAAAAaopdd0IAAMDP3F13QgAAgDUvXndCAADAZiZfd0IAAIDMeF93QgAAQDLLX3dCAADA/W9gd0IAAAAvZ2F3QgAAwJS5YXdCAACA+gtid0IAAEBgXmJ3QgAAAMawYndC\",\"dtype\":\"float64\",\"order\":\"little\",\"shape\":[999]}},\"selected\":{\"id\":\"1653\"},\"selection_policy\":{\"id\":\"1674\"}},\"id\":\"1652\",\"type\":\"ColumnDataSource\"},{\"attributes\":{\"callback\":null,\"formatters\":{\"@{time}\":\"datetime\"},\"renderers\":[{\"id\":\"1658\"}],\"tags\":[\"hv_created\"],\"tooltips\":[[\"time\",\"@{time}{%F %T}\"],[\"daily_returns\",\"@{daily_returns}\"]]},\"id\":\"1621\",\"type\":\"HoverTool\"},{\"attributes\":{\"end\":16.390453211154522,\"reset_end\":16.390453211154522,\"reset_start\":-18.759683140474127,\"start\":-18.759683140474127,\"tags\":[[[\"daily_returns\",\"daily_returns\",null]]]},\"id\":\"1620\",\"type\":\"Range1d\"},{\"attributes\":{\"base\":24,\"mantissas\":[1,2,4,6,8,12],\"max_interval\":43200000.0,\"min_interval\":3600000.0,\"num_minor_ticks\":0},\"id\":\"1678\",\"type\":\"AdaptiveTicker\"},{\"attributes\":{\"base\":60,\"mantissas\":[1,2,5,10,15,20,30],\"max_interval\":1800000.0,\"min_interval\":1000.0,\"num_minor_ticks\":0},\"id\":\"1677\",\"type\":\"AdaptiveTicker\"},{\"attributes\":{},\"id\":\"1627\",\"type\":\"LinearScale\"},{\"attributes\":{},\"id\":\"1643\",\"type\":\"ResetTool\"},{\"attributes\":{},\"id\":\"1663\",\"type\":\"DatetimeTickFormatter\"},{\"attributes\":{\"days\":[1,2,3,4,5,6,7,8,9,10,11,12,13,14,15,16,17,18,19,20,21,22,23,24,25,26,27,28,29,30,31]},\"id\":\"1679\",\"type\":\"DaysTicker\"},{\"attributes\":{},\"id\":\"1629\",\"type\":\"LinearScale\"},{\"attributes\":{\"source\":{\"id\":\"1652\"}},\"id\":\"1659\",\"type\":\"CDSView\"},{\"attributes\":{\"end\":1607040000000.0,\"reset_end\":1607040000000.0,\"reset_start\":1481846400000.0,\"start\":1481846400000.0,\"tags\":[[[\"time\",\"time\",null]]]},\"id\":\"1619\",\"type\":\"Range1d\"},{\"attributes\":{},\"id\":\"1661\",\"type\":\"AllLabels\"},{\"attributes\":{\"days\":[1,4,7,10,13,16,19,22,25,28]},\"id\":\"1680\",\"type\":\"DaysTicker\"},{\"attributes\":{\"days\":[1,15]},\"id\":\"1682\",\"type\":\"DaysTicker\"},{\"attributes\":{},\"id\":\"1636\",\"type\":\"BasicTicker\"},{\"attributes\":{},\"id\":\"1666\",\"type\":\"BasicTickFormatter\"},{\"attributes\":{\"num_minor_ticks\":5,\"tickers\":[{\"id\":\"1676\"},{\"id\":\"1677\"},{\"id\":\"1678\"},{\"id\":\"1679\"},{\"id\":\"1680\"},{\"id\":\"1681\"},{\"id\":\"1682\"},{\"id\":\"1683\"},{\"id\":\"1684\"},{\"id\":\"1685\"},{\"id\":\"1686\"},{\"id\":\"1687\"}]},\"id\":\"1632\",\"type\":\"DatetimeTicker\"},{\"attributes\":{\"days\":[1,8,15,22]},\"id\":\"1681\",\"type\":\"DaysTicker\"},{\"attributes\":{\"axis\":{\"id\":\"1631\"},\"grid_line_color\":null,\"ticker\":null},\"id\":\"1634\",\"type\":\"Grid\"},{\"attributes\":{\"bottom_units\":\"screen\",\"fill_alpha\":0.5,\"fill_color\":\"lightgrey\",\"left_units\":\"screen\",\"level\":\"overlay\",\"line_alpha\":1.0,\"line_color\":\"black\",\"line_dash\":[4,4],\"line_width\":2,\"right_units\":\"screen\",\"syncable\":false,\"top_units\":\"screen\"},\"id\":\"1644\",\"type\":\"BoxAnnotation\"}],\"root_ids\":[\"1617\"]},\"title\":\"Bokeh Application\",\"version\":\"2.3.2\"}};\n",
       "    var render_items = [{\"docid\":\"a76fe40d-1317-4fac-afe0-f5a5e8f50d94\",\"root_ids\":[\"1617\"],\"roots\":{\"1617\":\"f5dd2a8d-7b83-4209-b48c-ef5fc20d453f\"}}];\n",
       "    root.Bokeh.embed.embed_items_notebook(docs_json, render_items);\n",
       "  }\n",
       "  if (root.Bokeh !== undefined && root.Bokeh.Panel !== undefined) {\n",
       "    embed_document(root);\n",
       "  } else {\n",
       "    var attempts = 0;\n",
       "    var timer = setInterval(function(root) {\n",
       "      if (root.Bokeh !== undefined && root.Bokeh.Panel !== undefined) {\n",
       "        clearInterval(timer);\n",
       "        embed_document(root);\n",
       "      } else if (document.readyState == \"complete\") {\n",
       "        attempts++;\n",
       "        if (attempts > 200) {\n",
       "          clearInterval(timer);\n",
       "          console.log(\"Bokeh: ERROR: Unable to run BokehJS code because BokehJS library is missing\");\n",
       "        }\n",
       "      }\n",
       "    }, 25, root)\n",
       "  }\n",
       "})(window);</script>"
      ],
      "text/plain": [
       ":Curve   [time]   (daily_returns)"
      ]
     },
     "execution_count": 25,
     "metadata": {
      "application/vnd.holoviews_exec.v0+json": {
       "id": "1617"
      }
     },
     "output_type": "execute_result"
    }
   ],
   "source": [
    "# Create an interactive visualization with hvplot to plot the daily returns for PYPL.\n",
    "(pypl_dataframe['daily_returns'] * 100).hvplot.line(\n",
    "    rot=45,\n",
    "    xlabel=\"Date\",\n",
    "    ylabel=\"Daily Return (%)\",\n",
    "    title=\"PYPL Daily Returns\",\n",
    "    responsive=True,\n",
    "    height=400\n",
    ")"
   ]
  },
  {
   "cell_type": "markdown",
   "metadata": {},
   "source": [
    "### Step 4: Using hvPlot, create an interactive visualization for the PYPL cumulative returns. Reflect the “time” column of the DataFrame on the x-axis. Make sure that you professionally style and format your visualization to enhance its readability."
   ]
  },
  {
   "cell_type": "code",
   "execution_count": 26,
   "metadata": {},
   "outputs": [
    {
     "data": {},
     "metadata": {},
     "output_type": "display_data"
    },
    {
     "data": {},
     "metadata": {},
     "output_type": "display_data"
    },
    {
     "data": {
      "application/vnd.holoviews_exec.v0+json": "",
      "text/html": [
       "<div id='1822'>\n",
       "\n",
       "\n",
       "\n",
       "\n",
       "\n",
       "  <div class=\"bk-root\" id=\"559e333a-d074-471b-9544-926db19b621d\" data-root-id=\"1822\"></div>\n",
       "</div>\n",
       "<script type=\"application/javascript\">(function(root) {\n",
       "  function embed_document(root) {\n",
       "    var docs_json = {\"99ee692a-31c7-4366-907b-0b3dad3dfcb4\":{\"defs\":[{\"extends\":null,\"module\":null,\"name\":\"ReactiveHTML1\",\"overrides\":[],\"properties\":[]},{\"extends\":null,\"module\":null,\"name\":\"FlexBox1\",\"overrides\":[],\"properties\":[{\"default\":\"flex-start\",\"kind\":null,\"name\":\"align_content\"},{\"default\":\"flex-start\",\"kind\":null,\"name\":\"align_items\"},{\"default\":\"row\",\"kind\":null,\"name\":\"flex_direction\"},{\"default\":\"wrap\",\"kind\":null,\"name\":\"flex_wrap\"},{\"default\":\"flex-start\",\"kind\":null,\"name\":\"justify_content\"}]},{\"extends\":null,\"module\":null,\"name\":\"TemplateActions1\",\"overrides\":[],\"properties\":[{\"default\":0,\"kind\":null,\"name\":\"open_modal\"},{\"default\":0,\"kind\":null,\"name\":\"close_modal\"}]},{\"extends\":null,\"module\":null,\"name\":\"MaterialTemplateActions1\",\"overrides\":[],\"properties\":[{\"default\":0,\"kind\":null,\"name\":\"open_modal\"},{\"default\":0,\"kind\":null,\"name\":\"close_modal\"}]}],\"roots\":{\"references\":[{\"attributes\":{\"data\":{\"daily_returns\":{\"__ndarray__\":\"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\",\"dtype\":\"float64\",\"order\":\"little\",\"shape\":[999]},\"time\":{\"__ndarray__\":\"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\",\"dtype\":\"float64\",\"order\":\"little\",\"shape\":[999]}},\"selected\":{\"id\":\"1858\"},\"selection_policy\":{\"id\":\"1879\"}},\"id\":\"1857\",\"type\":\"ColumnDataSource\"},{\"attributes\":{\"mantissas\":[1,2,5],\"max_interval\":500.0,\"num_minor_ticks\":0},\"id\":\"1881\",\"type\":\"AdaptiveTicker\"},{\"attributes\":{},\"id\":\"1848\",\"type\":\"ResetTool\"},{\"attributes\":{\"days\":[1,8,15,22]},\"id\":\"1886\",\"type\":\"DaysTicker\"},{\"attributes\":{\"axis_label\":\"Date\",\"formatter\":{\"id\":\"1868\"},\"major_label_orientation\":0.7853981633974483,\"major_label_policy\":{\"id\":\"1866\"},\"ticker\":{\"id\":\"1837\"}},\"id\":\"1836\",\"type\":\"DatetimeAxis\"},{\"attributes\":{\"line_alpha\":0.1,\"line_color\":\"#30a2da\",\"line_width\":2,\"x\":{\"field\":\"time\"},\"y\":{\"field\":\"daily_returns\"}},\"id\":\"1861\",\"type\":\"Line\"},{\"attributes\":{\"months\":[0,6]},\"id\":\"1891\",\"type\":\"MonthsTicker\"},{\"attributes\":{},\"id\":\"1841\",\"type\":\"BasicTicker\"},{\"attributes\":{\"line_color\":\"#30a2da\",\"line_width\":2,\"x\":{\"field\":\"time\"},\"y\":{\"field\":\"daily_returns\"}},\"id\":\"1860\",\"type\":\"Line\"},{\"attributes\":{\"months\":[0,1,2,3,4,5,6,7,8,9,10,11]},\"id\":\"1888\",\"type\":\"MonthsTicker\"},{\"attributes\":{},\"id\":\"1834\",\"type\":\"LinearScale\"},{\"attributes\":{\"num_minor_ticks\":5,\"tickers\":[{\"id\":\"1881\"},{\"id\":\"1882\"},{\"id\":\"1883\"},{\"id\":\"1884\"},{\"id\":\"1885\"},{\"id\":\"1886\"},{\"id\":\"1887\"},{\"id\":\"1888\"},{\"id\":\"1889\"},{\"id\":\"1890\"},{\"id\":\"1891\"},{\"id\":\"1892\"}]},\"id\":\"1837\",\"type\":\"DatetimeTicker\"},{\"attributes\":{\"bottom_units\":\"screen\",\"fill_alpha\":0.5,\"fill_color\":\"lightgrey\",\"left_units\":\"screen\",\"level\":\"overlay\",\"line_alpha\":1.0,\"line_color\":\"black\",\"line_dash\":[4,4],\"line_width\":2,\"right_units\":\"screen\",\"syncable\":false,\"top_units\":\"screen\"},\"id\":\"1849\",\"type\":\"BoxAnnotation\"},{\"attributes\":{\"days\":[1,4,7,10,13,16,19,22,25,28]},\"id\":\"1885\",\"type\":\"DaysTicker\"},{\"attributes\":{\"axis\":{\"id\":\"1836\"},\"grid_line_color\":null,\"ticker\":null},\"id\":\"1839\",\"type\":\"Grid\"},{\"attributes\":{\"months\":[0,2,4,6,8,10]},\"id\":\"1889\",\"type\":\"MonthsTicker\"},{\"attributes\":{\"end\":1607040000000.0,\"reset_end\":1607040000000.0,\"reset_start\":1481846400000.0,\"start\":1481846400000.0,\"tags\":[[[\"time\",\"time\",null]]]},\"id\":\"1824\",\"type\":\"Range1d\"},{\"attributes\":{\"days\":[1,2,3,4,5,6,7,8,9,10,11,12,13,14,15,16,17,18,19,20,21,22,23,24,25,26,27,28,29,30,31]},\"id\":\"1884\",\"type\":\"DaysTicker\"},{\"attributes\":{\"below\":[{\"id\":\"1836\"}],\"center\":[{\"id\":\"1839\"},{\"id\":\"1843\"}],\"height\":400,\"left\":[{\"id\":\"1840\"}],\"margin\":[5,5,5,5],\"min_border_bottom\":10,\"min_border_left\":10,\"min_border_right\":10,\"min_border_top\":10,\"renderers\":[{\"id\":\"1863\"}],\"sizing_mode\":\"stretch_width\",\"title\":{\"id\":\"1828\"},\"toolbar\":{\"id\":\"1850\"},\"width\":null,\"x_range\":{\"id\":\"1824\"},\"x_scale\":{\"id\":\"1832\"},\"y_range\":{\"id\":\"1825\"},\"y_scale\":{\"id\":\"1834\"}},\"id\":\"1827\",\"subtype\":\"Figure\",\"type\":\"Plot\"},{\"attributes\":{\"axis\":{\"id\":\"1840\"},\"dimension\":1,\"grid_line_color\":null,\"ticker\":null},\"id\":\"1843\",\"type\":\"Grid\"},{\"attributes\":{},\"id\":\"1879\",\"type\":\"UnionRenderers\"},{\"attributes\":{\"end\":210.23268671679926,\"reset_end\":210.23268671679926,\"reset_start\":-15.262613837236785,\"start\":-15.262613837236785,\"tags\":[[[\"daily_returns\",\"daily_returns\",null]]]},\"id\":\"1825\",\"type\":\"Range1d\"},{\"attributes\":{\"axis_label\":\"Cumulative Daily Return (%)\",\"formatter\":{\"id\":\"1871\"},\"major_label_policy\":{\"id\":\"1869\"},\"ticker\":{\"id\":\"1841\"}},\"id\":\"1840\",\"type\":\"LinearAxis\"},{\"attributes\":{\"base\":60,\"mantissas\":[1,2,5,10,15,20,30],\"max_interval\":1800000.0,\"min_interval\":1000.0,\"num_minor_ticks\":0},\"id\":\"1882\",\"type\":\"AdaptiveTicker\"},{\"attributes\":{\"children\":[{\"id\":\"1827\"}],\"margin\":[0,0,0,0],\"name\":\"Row02334\",\"tags\":[\"embedded\"]},\"id\":\"1822\",\"type\":\"Row\"},{\"attributes\":{\"line_color\":\"#30a2da\",\"line_width\":2,\"x\":{\"field\":\"time\"},\"y\":{\"field\":\"daily_returns\"}},\"id\":\"1865\",\"type\":\"Line\"},{\"attributes\":{\"base\":24,\"mantissas\":[1,2,4,6,8,12],\"max_interval\":43200000.0,\"min_interval\":3600000.0,\"num_minor_ticks\":0},\"id\":\"1883\",\"type\":\"AdaptiveTicker\"},{\"attributes\":{},\"id\":\"1832\",\"type\":\"LinearScale\"},{\"attributes\":{\"line_alpha\":0.2,\"line_color\":\"#30a2da\",\"line_width\":2,\"x\":{\"field\":\"time\"},\"y\":{\"field\":\"daily_returns\"}},\"id\":\"1862\",\"type\":\"Line\"},{\"attributes\":{\"months\":[0,4,8]},\"id\":\"1890\",\"type\":\"MonthsTicker\"},{\"attributes\":{\"active_multi\":null,\"tools\":[{\"id\":\"1826\"},{\"id\":\"1844\"},{\"id\":\"1845\"},{\"id\":\"1846\"},{\"id\":\"1847\"},{\"id\":\"1848\"}]},\"id\":\"1850\",\"type\":\"Toolbar\"},{\"attributes\":{},\"id\":\"1869\",\"type\":\"AllLabels\"},{\"attributes\":{\"data_source\":{\"id\":\"1857\"},\"glyph\":{\"id\":\"1860\"},\"hover_glyph\":null,\"muted_glyph\":{\"id\":\"1862\"},\"nonselection_glyph\":{\"id\":\"1861\"},\"selection_glyph\":{\"id\":\"1865\"},\"view\":{\"id\":\"1864\"}},\"id\":\"1863\",\"type\":\"GlyphRenderer\"},{\"attributes\":{},\"id\":\"1844\",\"type\":\"SaveTool\"},{\"attributes\":{\"source\":{\"id\":\"1857\"}},\"id\":\"1864\",\"type\":\"CDSView\"},{\"attributes\":{\"days\":[1,15]},\"id\":\"1887\",\"type\":\"DaysTicker\"},{\"attributes\":{\"text\":\"PYPL Cumulative Daily Returns\",\"text_color\":\"black\",\"text_font_size\":\"12pt\"},\"id\":\"1828\",\"type\":\"Title\"},{\"attributes\":{},\"id\":\"1868\",\"type\":\"DatetimeTickFormatter\"},{\"attributes\":{},\"id\":\"1845\",\"type\":\"PanTool\"},{\"attributes\":{},\"id\":\"1846\",\"type\":\"WheelZoomTool\"},{\"attributes\":{},\"id\":\"1866\",\"type\":\"AllLabels\"},{\"attributes\":{},\"id\":\"1871\",\"type\":\"BasicTickFormatter\"},{\"attributes\":{\"callback\":null,\"formatters\":{\"@{time}\":\"datetime\"},\"renderers\":[{\"id\":\"1863\"}],\"tags\":[\"hv_created\"],\"tooltips\":[[\"time\",\"@{time}{%F %T}\"],[\"daily_returns\",\"@{daily_returns}\"]]},\"id\":\"1826\",\"type\":\"HoverTool\"},{\"attributes\":{\"overlay\":{\"id\":\"1849\"}},\"id\":\"1847\",\"type\":\"BoxZoomTool\"},{\"attributes\":{},\"id\":\"1892\",\"type\":\"YearsTicker\"},{\"attributes\":{},\"id\":\"1858\",\"type\":\"Selection\"}],\"root_ids\":[\"1822\"]},\"title\":\"Bokeh Application\",\"version\":\"2.3.2\"}};\n",
       "    var render_items = [{\"docid\":\"99ee692a-31c7-4366-907b-0b3dad3dfcb4\",\"root_ids\":[\"1822\"],\"roots\":{\"1822\":\"559e333a-d074-471b-9544-926db19b621d\"}}];\n",
       "    root.Bokeh.embed.embed_items_notebook(docs_json, render_items);\n",
       "  }\n",
       "  if (root.Bokeh !== undefined && root.Bokeh.Panel !== undefined) {\n",
       "    embed_document(root);\n",
       "  } else {\n",
       "    var attempts = 0;\n",
       "    var timer = setInterval(function(root) {\n",
       "      if (root.Bokeh !== undefined && root.Bokeh.Panel !== undefined) {\n",
       "        clearInterval(timer);\n",
       "        embed_document(root);\n",
       "      } else if (document.readyState == \"complete\") {\n",
       "        attempts++;\n",
       "        if (attempts > 200) {\n",
       "          clearInterval(timer);\n",
       "          console.log(\"Bokeh: ERROR: Unable to run BokehJS code because BokehJS library is missing\");\n",
       "        }\n",
       "      }\n",
       "    }, 25, root)\n",
       "  }\n",
       "})(window);</script>"
      ],
      "text/plain": [
       ":Curve   [time]   (daily_returns)"
      ]
     },
     "execution_count": 26,
     "metadata": {
      "application/vnd.holoviews_exec.v0+json": {
       "id": "1822"
      }
     },
     "output_type": "execute_result"
    }
   ],
   "source": [
    "# Create an interactive visaulization with hvplot to plot the cumulative returns for PYPL.\n",
    "(pypl_dataframe['daily_returns'] * 100).cumsum().hvplot.line(\n",
    "    rot=45,\n",
    "    xlabel=\"Date\",\n",
    "    ylabel=\"Cumulative Daily Return (%)\",\n",
    "    title=\"PYPL Cumulative Daily Returns\",\n",
    "    responsive=True,\n",
    "    height=400\n",
    ")"
   ]
  },
  {
   "cell_type": "markdown",
   "metadata": {},
   "source": [
    "## Optimize the SQL Queries\n",
    "\n",
    "For this part of the assignment, you’ll continue to analyze a single asset (PYPL) from the ETF. You’ll use advanced SQL queries to optimize the efficiency of accessing data from the database.\n",
    "\n",
    "Complete the following steps:\n",
    "\n",
    "1. Access the closing prices for PYPL that are greater than 200 by completing the following steps:\n",
    "\n",
    "1. Access the closing prices for PYPL that are greater than 200 by completing the following steps:\n",
    "\n",
    "    - Write a SQL `SELECT` statement to select the dates where the PYPL closing price was higher than 200.0.\n",
    "\n",
    "    - Select the “time” and “close” columns for those dates where the closing price was higher than 200.0.\n",
    "\n",
    "    - Using the SQL statement, read the data from the database into a Pandas DataFrame, and then review the resulting DataFrame.\n",
    "\n",
    "2. Find the top 10 daily returns for PYPL by completing the following steps:\n",
    "\n",
    "    -  Write a SQL statement to find the top 10 PYPL daily returns. Make sure to do the following:\n",
    "\n",
    "        * Use `SELECT` to select only the “time” and “daily_returns” columns.\n",
    "\n",
    "        * Use `ORDER` to sort the results in descending order by the “daily_returns” column.\n",
    "\n",
    "        * Use `LIMIT` to limit the results to the top 10 daily return values.\n",
    "\n",
    "    - Using the SQL statement, read the data from the database into a Pandas DataFrame, and then review the resulting DataFrame.\n"
   ]
  },
  {
   "cell_type": "markdown",
   "metadata": {},
   "source": [
    "### Step 1: Access the closing prices for PYPL that are greater than 200 by completing the following steps:\n",
    "\n",
    "    - Write a SQL `SELECT` statement to select the dates where the PYPL closing price was higher than 200.0.\n",
    "\n",
    "    - Select the “time” and “close” columns for those dates where the closing price was higher than 200.0.\n",
    "\n",
    "    - Using the SQL statement, read the data from the database into a Pandas DataFrame, and then review the resulting DataFrame.\n"
   ]
  },
  {
   "cell_type": "code",
   "execution_count": 27,
   "metadata": {
    "scrolled": true
   },
   "outputs": [
    {
     "data": {
      "text/html": [
       "<div>\n",
       "<style scoped>\n",
       "    .dataframe tbody tr th:only-of-type {\n",
       "        vertical-align: middle;\n",
       "    }\n",
       "\n",
       "    .dataframe tbody tr th {\n",
       "        vertical-align: top;\n",
       "    }\n",
       "\n",
       "    .dataframe thead th {\n",
       "        text-align: right;\n",
       "    }\n",
       "</style>\n",
       "<table border=\"1\" class=\"dataframe\">\n",
       "  <thead>\n",
       "    <tr style=\"text-align: right;\">\n",
       "      <th></th>\n",
       "      <th>close</th>\n",
       "    </tr>\n",
       "    <tr>\n",
       "      <th>time</th>\n",
       "      <th></th>\n",
       "    </tr>\n",
       "  </thead>\n",
       "  <tbody>\n",
       "    <tr>\n",
       "      <th>2020-08-05</th>\n",
       "      <td>202.92</td>\n",
       "    </tr>\n",
       "    <tr>\n",
       "      <th>2020-08-06</th>\n",
       "      <td>204.09</td>\n",
       "    </tr>\n",
       "    <tr>\n",
       "      <th>2020-08-25</th>\n",
       "      <td>201.71</td>\n",
       "    </tr>\n",
       "    <tr>\n",
       "      <th>2020-08-26</th>\n",
       "      <td>203.53</td>\n",
       "    </tr>\n",
       "    <tr>\n",
       "      <th>2020-08-27</th>\n",
       "      <td>204.34</td>\n",
       "    </tr>\n",
       "  </tbody>\n",
       "</table>\n",
       "</div>"
      ],
      "text/plain": [
       "             close\n",
       "time              \n",
       "2020-08-05  202.92\n",
       "2020-08-06  204.09\n",
       "2020-08-25  201.71\n",
       "2020-08-26  203.53\n",
       "2020-08-27  204.34"
      ]
     },
     "execution_count": 27,
     "metadata": {},
     "output_type": "execute_result"
    }
   ],
   "source": [
    "# Write a SQL SELECT statement to select the time and close columns \n",
    "# where the PYPL closing price was higher than 200.0.\n",
    "query = \"\"\"\n",
    "    SELECT time, close\n",
    "    FROM PYPL\n",
    "    WHERE close > 200\n",
    "\"\"\"\n",
    "\n",
    "# Using the query, read the data from the database into a Pandas DataFrame\n",
    "pypl_higher_than_200 = pd.read_sql_query(query, engine, index_col='time', parse_dates=['time'])\n",
    "\n",
    "# Review the resulting DataFrame\n",
    "pypl_higher_than_200.head()"
   ]
  },
  {
   "cell_type": "markdown",
   "metadata": {},
   "source": [
    "### Step 2: Find the top 10 daily returns for PYPL by completing the following steps:\n",
    "\n",
    "    -  Write a SQL statement to find the top 10 PYPL daily returns. Make sure to do the following:\n",
    "\n",
    "        * Use `SELECT` to select only the “time” and “daily_returns” columns.\n",
    "\n",
    "        * Use `ORDER` to sort the results in descending order by the “daily_returns” column.\n",
    "\n",
    "        * Use `LIMIT` to limit the results to the top 10 daily return values.\n",
    "\n",
    "    - Using the SQL statement, read the data from the database into a Pandas DataFrame, and then review the resulting DataFrame.\n"
   ]
  },
  {
   "cell_type": "code",
   "execution_count": 28,
   "metadata": {},
   "outputs": [
    {
     "data": {
      "text/html": [
       "<div>\n",
       "<style scoped>\n",
       "    .dataframe tbody tr th:only-of-type {\n",
       "        vertical-align: middle;\n",
       "    }\n",
       "\n",
       "    .dataframe tbody tr th {\n",
       "        vertical-align: top;\n",
       "    }\n",
       "\n",
       "    .dataframe thead th {\n",
       "        text-align: right;\n",
       "    }\n",
       "</style>\n",
       "<table border=\"1\" class=\"dataframe\">\n",
       "  <thead>\n",
       "    <tr style=\"text-align: right;\">\n",
       "      <th></th>\n",
       "      <th>daily_returns</th>\n",
       "    </tr>\n",
       "    <tr>\n",
       "      <th>time</th>\n",
       "      <th></th>\n",
       "    </tr>\n",
       "  </thead>\n",
       "  <tbody>\n",
       "    <tr>\n",
       "      <th>2020-03-24</th>\n",
       "      <td>0.140981</td>\n",
       "    </tr>\n",
       "    <tr>\n",
       "      <th>2020-05-07</th>\n",
       "      <td>0.140318</td>\n",
       "    </tr>\n",
       "    <tr>\n",
       "      <th>2020-03-13</th>\n",
       "      <td>0.138700</td>\n",
       "    </tr>\n",
       "    <tr>\n",
       "      <th>2020-04-06</th>\n",
       "      <td>0.100877</td>\n",
       "    </tr>\n",
       "    <tr>\n",
       "      <th>2018-10-19</th>\n",
       "      <td>0.093371</td>\n",
       "    </tr>\n",
       "  </tbody>\n",
       "</table>\n",
       "</div>"
      ],
      "text/plain": [
       "            daily_returns\n",
       "time                     \n",
       "2020-03-24       0.140981\n",
       "2020-05-07       0.140318\n",
       "2020-03-13       0.138700\n",
       "2020-04-06       0.100877\n",
       "2018-10-19       0.093371"
      ]
     },
     "execution_count": 28,
     "metadata": {},
     "output_type": "execute_result"
    }
   ],
   "source": [
    "# Write a SQL SELECT statement to select the time and daily_returns columns\n",
    "# Sort the results in descending order and return only the top 10 return values\n",
    "query = \"\"\"\n",
    "    SELECT time, daily_returns\n",
    "    FROM PYPL\n",
    "    ORDER BY daily_returns DESC\n",
    "    LIMIT 10\n",
    "\"\"\"\n",
    "\n",
    "# Using the query, read the data from the database into a Pandas DataFrame\n",
    "pypl_top_10_returns = pd.read_sql_query(query, engine, index_col='time', parse_dates=['time'])\n",
    "\n",
    "# Review the resulting DataFrame\n",
    "pypl_top_10_returns.head()"
   ]
  },
  {
   "cell_type": "markdown",
   "metadata": {},
   "source": [
    "## Analyze the Fintech ETF Portfolio\n",
    "\n",
    "For this part of the assignment, you’ll build the entire ETF portfolio and then evaluate its performance. To do so, you’ll build the ETF portfolio by using SQL joins to combine all the data for each asset.\n",
    "\n",
    "Complete the following steps:\n",
    "\n",
    "1. Write a SQL query to join each table in the portfolio into a single DataFrame. To do so, complete the following steps:\n",
    "\n",
    "    - Use a SQL inner join to join each table on the “time” column. Access the “time” column in the `GDOT` table via the `GDOT.time` syntax. Access the “time” columns from the other tables via similar syntax.\n",
    "\n",
    "    - Using the SQL query, read the data from the database into a Pandas DataFrame. Review the resulting DataFrame.\n",
    "\n",
    "2. Create a DataFrame that averages the “daily_returns” columns for all four assets. Review the resulting DataFrame.\n",
    "\n",
    "    > **Hint** Assuming that this ETF contains equally weighted returns, you can average the returns for each asset to get the average returns of the portfolio. You can then use the average returns of the portfolio to calculate the annualized returns and the cumulative returns. For the calculation to get the average daily returns for the portfolio, use the following code:\n",
    "    >\n",
    "    > ```python\n",
    "    > etf_portfolio_returns = etf_portfolio['daily_returns'].mean(axis=1)\n",
    "    > ```\n",
    "    >\n",
    "    > You can use the average daily returns of the portfolio the same way that you used the daily returns of a single asset.\n",
    "\n",
    "3. Use the average daily returns in the `etf_portfolio_returns` DataFrame to calculate the annualized returns for the portfolio. Display the annualized return value of the ETF portfolio.\n",
    "\n",
    "> **Hint**  To calculate the annualized returns, multiply the mean of the `etf_portfolio_returns` values by 252.\n",
    ">\n",
    "> To convert the decimal values to percentages, multiply the results by 100.\n",
    "\n",
    "4. Use the average daily returns in the `etf_portfolio_returns` DataFrame to calculate the cumulative returns of the ETF portfolio.\n",
    "\n",
    "5. Using hvPlot, create an interactive line plot that visualizes the cumulative return values of the ETF portfolio. Reflect the “time” column of the DataFrame on the x-axis. Make sure that you professionally style and format your visualization to enhance its readability.\n"
   ]
  },
  {
   "cell_type": "markdown",
   "metadata": {},
   "source": [
    "### Step 1: Write a SQL query to join each table in the portfolio into a single DataFrame. To do so, complete the following steps:\n",
    "\n",
    "    - Use a SQL inner join to join each table on the “time” column. Access the “time” column in the `GDOT` table via the `GDOT.time` syntax. Access the “time” columns from the other tables via similar syntax.\n",
    "\n",
    "    - Using the SQL query, read the data from the database into a Pandas DataFrame. Review the resulting DataFrame."
   ]
  },
  {
   "cell_type": "code",
   "execution_count": 29,
   "metadata": {
    "scrolled": true
   },
   "outputs": [
    {
     "data": {
      "text/html": [
       "<div>\n",
       "<style scoped>\n",
       "    .dataframe tbody tr th:only-of-type {\n",
       "        vertical-align: middle;\n",
       "    }\n",
       "\n",
       "    .dataframe tbody tr th {\n",
       "        vertical-align: top;\n",
       "    }\n",
       "\n",
       "    .dataframe thead th {\n",
       "        text-align: right;\n",
       "    }\n",
       "</style>\n",
       "<table border=\"1\" class=\"dataframe\">\n",
       "  <thead>\n",
       "    <tr style=\"text-align: right;\">\n",
       "      <th></th>\n",
       "      <th>daily_returns</th>\n",
       "      <th>daily_returns</th>\n",
       "      <th>daily_returns</th>\n",
       "      <th>daily_returns</th>\n",
       "    </tr>\n",
       "    <tr>\n",
       "      <th>time</th>\n",
       "      <th></th>\n",
       "      <th></th>\n",
       "      <th></th>\n",
       "      <th></th>\n",
       "    </tr>\n",
       "  </thead>\n",
       "  <tbody>\n",
       "    <tr>\n",
       "      <th>2016-12-16</th>\n",
       "      <td>-0.005564</td>\n",
       "      <td>-0.023218</td>\n",
       "      <td>-0.016708</td>\n",
       "      <td>0.017339</td>\n",
       "    </tr>\n",
       "    <tr>\n",
       "      <th>2016-12-19</th>\n",
       "      <td>0.003306</td>\n",
       "      <td>-0.007923</td>\n",
       "      <td>0.000795</td>\n",
       "      <td>-0.001043</td>\n",
       "    </tr>\n",
       "    <tr>\n",
       "      <th>2016-12-20</th>\n",
       "      <td>0.007351</td>\n",
       "      <td>0.001261</td>\n",
       "      <td>0.016602</td>\n",
       "      <td>0.009053</td>\n",
       "    </tr>\n",
       "    <tr>\n",
       "      <th>2016-12-21</th>\n",
       "      <td>0.008807</td>\n",
       "      <td>0.001679</td>\n",
       "      <td>-0.006911</td>\n",
       "      <td>-0.007591</td>\n",
       "    </tr>\n",
       "    <tr>\n",
       "      <th>2016-12-22</th>\n",
       "      <td>-0.010227</td>\n",
       "      <td>0.006077</td>\n",
       "      <td>-0.005178</td>\n",
       "      <td>-0.023644</td>\n",
       "    </tr>\n",
       "  </tbody>\n",
       "</table>\n",
       "</div>"
      ],
      "text/plain": [
       "            daily_returns  daily_returns  daily_returns  daily_returns\n",
       "time                                                                  \n",
       "2016-12-16      -0.005564      -0.023218      -0.016708       0.017339\n",
       "2016-12-19       0.003306      -0.007923       0.000795      -0.001043\n",
       "2016-12-20       0.007351       0.001261       0.016602       0.009053\n",
       "2016-12-21       0.008807       0.001679      -0.006911      -0.007591\n",
       "2016-12-22      -0.010227       0.006077      -0.005178      -0.023644"
      ]
     },
     "execution_count": 29,
     "metadata": {},
     "output_type": "execute_result"
    }
   ],
   "source": [
    "# Wreate a SQL query to join each table in the portfolio into a single DataFrame \n",
    "# Use the time column from each table as the basis for the join\n",
    "query =  \"\"\"\n",
    "    SELECT\n",
    "        PYPL.time,\n",
    "        PYPL.daily_returns,\n",
    "        GDOT.daily_returns,\n",
    "        GS.daily_returns,\n",
    "        SQ.daily_returns\n",
    "    FROM PYPL\n",
    "    INNER JOIN GDOT ON PYPL.time = GDOT.time\n",
    "    INNER JOIN GS ON PYPL.time = GS.time\n",
    "    INNER JOIN SQ ON PYPL.time = SQ.time\n",
    "\"\"\"\n",
    "\n",
    "# Using the query, read the data from the database into a Pandas DataFrame\n",
    "etf_portfolio = pd.read_sql_query(query, engine, index_col='time', parse_dates=['time'])\n",
    "\n",
    "# Review the resulting DataFrame\n",
    "etf_portfolio.head()"
   ]
  },
  {
   "cell_type": "markdown",
   "metadata": {},
   "source": [
    "### Step 2: Create a DataFrame that averages the “daily_returns” columns for all four assets. Review the resulting DataFrame."
   ]
  },
  {
   "cell_type": "code",
   "execution_count": 30,
   "metadata": {
    "scrolled": true
   },
   "outputs": [
    {
     "data": {
      "text/html": [
       "<div>\n",
       "<style scoped>\n",
       "    .dataframe tbody tr th:only-of-type {\n",
       "        vertical-align: middle;\n",
       "    }\n",
       "\n",
       "    .dataframe tbody tr th {\n",
       "        vertical-align: top;\n",
       "    }\n",
       "\n",
       "    .dataframe thead th {\n",
       "        text-align: right;\n",
       "    }\n",
       "</style>\n",
       "<table border=\"1\" class=\"dataframe\">\n",
       "  <thead>\n",
       "    <tr style=\"text-align: right;\">\n",
       "      <th></th>\n",
       "      <th>daily_returns</th>\n",
       "    </tr>\n",
       "    <tr>\n",
       "      <th>time</th>\n",
       "      <th></th>\n",
       "    </tr>\n",
       "  </thead>\n",
       "  <tbody>\n",
       "    <tr>\n",
       "      <th>2016-12-16</th>\n",
       "      <td>-0.007038</td>\n",
       "    </tr>\n",
       "    <tr>\n",
       "      <th>2016-12-19</th>\n",
       "      <td>-0.001216</td>\n",
       "    </tr>\n",
       "    <tr>\n",
       "      <th>2016-12-20</th>\n",
       "      <td>0.008567</td>\n",
       "    </tr>\n",
       "    <tr>\n",
       "      <th>2016-12-21</th>\n",
       "      <td>-0.001004</td>\n",
       "    </tr>\n",
       "    <tr>\n",
       "      <th>2016-12-22</th>\n",
       "      <td>-0.008243</td>\n",
       "    </tr>\n",
       "    <tr>\n",
       "      <th>...</th>\n",
       "      <td>...</td>\n",
       "    </tr>\n",
       "    <tr>\n",
       "      <th>2020-11-30</th>\n",
       "      <td>-0.014635</td>\n",
       "    </tr>\n",
       "    <tr>\n",
       "      <th>2020-12-01</th>\n",
       "      <td>-0.003990</td>\n",
       "    </tr>\n",
       "    <tr>\n",
       "      <th>2020-12-02</th>\n",
       "      <td>-0.006288</td>\n",
       "    </tr>\n",
       "    <tr>\n",
       "      <th>2020-12-03</th>\n",
       "      <td>0.011246</td>\n",
       "    </tr>\n",
       "    <tr>\n",
       "      <th>2020-12-04</th>\n",
       "      <td>0.009108</td>\n",
       "    </tr>\n",
       "  </tbody>\n",
       "</table>\n",
       "<p>999 rows × 1 columns</p>\n",
       "</div>"
      ],
      "text/plain": [
       "            daily_returns\n",
       "time                     \n",
       "2016-12-16      -0.007038\n",
       "2016-12-19      -0.001216\n",
       "2016-12-20       0.008567\n",
       "2016-12-21      -0.001004\n",
       "2016-12-22      -0.008243\n",
       "...                   ...\n",
       "2020-11-30      -0.014635\n",
       "2020-12-01      -0.003990\n",
       "2020-12-02      -0.006288\n",
       "2020-12-03       0.011246\n",
       "2020-12-04       0.009108\n",
       "\n",
       "[999 rows x 1 columns]"
      ]
     },
     "execution_count": 30,
     "metadata": {},
     "output_type": "execute_result"
    }
   ],
   "source": [
    "# Create a DataFrame that displays the mean value of the “daily_returns” columns for all four assets.\n",
    "etf_portfolio_returns = etf_portfolio['daily_returns'].mean(axis=1).to_frame(name=\"daily_returns\")\n",
    "\n",
    "# Review the resulting DataFrame\n",
    "etf_portfolio_returns"
   ]
  },
  {
   "cell_type": "markdown",
   "metadata": {},
   "source": [
    "### Step 3: Use the average daily returns in the etf_portfolio_returns DataFrame to calculate the annualized returns for the portfolio. Display the annualized return value of the ETF portfolio."
   ]
  },
  {
   "cell_type": "code",
   "execution_count": 31,
   "metadata": {},
   "outputs": [
    {
     "name": "stdout",
     "output_type": "stream",
     "text": [
      "The annualized return of the ETF portfolio is 43.83%\n"
     ]
    }
   ],
   "source": [
    "# Use the average daily returns provided by the etf_portfolio_returns DataFrame \n",
    "# to calculate the annualized return for the portfolio. \n",
    "annualized_etf_portfolio_returns = etf_portfolio_returns['daily_returns'].mean() * 252\n",
    "\n",
    "# Display the annualized return value of the ETF portfolio.\n",
    "print(f\"The annualized return of the ETF portfolio is {(annualized_etf_portfolio_returns * 100):.2f}%\")"
   ]
  },
  {
   "cell_type": "markdown",
   "metadata": {},
   "source": [
    "### Step 4: Use the average daily returns in the `etf_portfolio_returns` DataFrame to calculate the cumulative returns of the ETF portfolio."
   ]
  },
  {
   "cell_type": "code",
   "execution_count": 32,
   "metadata": {},
   "outputs": [
    {
     "name": "stdout",
     "output_type": "stream",
     "text": [
      "The final cumulative return of the ETF portfolio is 173.74%\n"
     ]
    }
   ],
   "source": [
    "# Use the average daily returns provided by the etf_portfolio_returns DataFrame \n",
    "# to calculate the cumulative returns\n",
    "etf_cumulative_returns = etf_portfolio_returns['daily_returns'].cumsum()\n",
    "\n",
    "# Display the final cumulative return value\n",
    "print(f\"The final cumulative return of the ETF portfolio is {(etf_cumulative_returns.iloc[-1] * 100):.2f}%\")"
   ]
  },
  {
   "cell_type": "markdown",
   "metadata": {},
   "source": [
    "### Step 5: Using hvPlot, create an interactive line plot that visualizes the cumulative return values of the ETF portfolio. Reflect the “time” column of the DataFrame on the x-axis. Make sure that you professionally style and format your visualization to enhance its readability."
   ]
  },
  {
   "cell_type": "code",
   "execution_count": 33,
   "metadata": {},
   "outputs": [
    {
     "data": {},
     "metadata": {},
     "output_type": "display_data"
    },
    {
     "data": {},
     "metadata": {},
     "output_type": "display_data"
    },
    {
     "data": {
      "application/vnd.holoviews_exec.v0+json": "",
      "text/html": [
       "<div id='2027'>\n",
       "\n",
       "\n",
       "\n",
       "\n",
       "\n",
       "  <div class=\"bk-root\" id=\"647ab713-8a3c-4db9-90b4-7562d43b7386\" data-root-id=\"2027\"></div>\n",
       "</div>\n",
       "<script type=\"application/javascript\">(function(root) {\n",
       "  function embed_document(root) {\n",
       "    var docs_json = {\"8387e243-a8ca-4ad8-9fee-52c444a11452\":{\"defs\":[{\"extends\":null,\"module\":null,\"name\":\"ReactiveHTML1\",\"overrides\":[],\"properties\":[]},{\"extends\":null,\"module\":null,\"name\":\"FlexBox1\",\"overrides\":[],\"properties\":[{\"default\":\"flex-start\",\"kind\":null,\"name\":\"align_content\"},{\"default\":\"flex-start\",\"kind\":null,\"name\":\"align_items\"},{\"default\":\"row\",\"kind\":null,\"name\":\"flex_direction\"},{\"default\":\"wrap\",\"kind\":null,\"name\":\"flex_wrap\"},{\"default\":\"flex-start\",\"kind\":null,\"name\":\"justify_content\"}]},{\"extends\":null,\"module\":null,\"name\":\"TemplateActions1\",\"overrides\":[],\"properties\":[{\"default\":0,\"kind\":null,\"name\":\"open_modal\"},{\"default\":0,\"kind\":null,\"name\":\"close_modal\"}]},{\"extends\":null,\"module\":null,\"name\":\"MaterialTemplateActions1\",\"overrides\":[],\"properties\":[{\"default\":0,\"kind\":null,\"name\":\"open_modal\"},{\"default\":0,\"kind\":null,\"name\":\"close_modal\"}]}],\"roots\":{\"references\":[{\"attributes\":{},\"id\":\"2039\",\"type\":\"LinearScale\"},{\"attributes\":{\"line_alpha\":0.2,\"line_color\":\"#30a2da\",\"line_width\":2,\"x\":{\"field\":\"time\"},\"y\":{\"field\":\"daily_returns\"}},\"id\":\"2067\",\"type\":\"Line\"},{\"attributes\":{\"days\":[1,8,15,22]},\"id\":\"2091\",\"type\":\"DaysTicker\"},{\"attributes\":{\"bottom_units\":\"screen\",\"fill_alpha\":0.5,\"fill_color\":\"lightgrey\",\"left_units\":\"screen\",\"level\":\"overlay\",\"line_alpha\":1.0,\"line_color\":\"black\",\"line_dash\":[4,4],\"line_width\":2,\"right_units\":\"screen\",\"syncable\":false,\"top_units\":\"screen\"},\"id\":\"2054\",\"type\":\"BoxAnnotation\"},{\"attributes\":{\"text\":\"ETF Portfolio Cumulative Daily Returns\",\"text_color\":\"black\",\"text_font_size\":\"12pt\"},\"id\":\"2033\",\"type\":\"Title\"},{\"attributes\":{},\"id\":\"2076\",\"type\":\"BasicTickFormatter\"},{\"attributes\":{\"months\":[0,4,8]},\"id\":\"2095\",\"type\":\"MonthsTicker\"},{\"attributes\":{\"mantissas\":[1,2,5],\"max_interval\":500.0,\"num_minor_ticks\":0},\"id\":\"2086\",\"type\":\"AdaptiveTicker\"},{\"attributes\":{\"days\":[1,4,7,10,13,16,19,22,25,28]},\"id\":\"2090\",\"type\":\"DaysTicker\"},{\"attributes\":{},\"id\":\"2046\",\"type\":\"BasicTicker\"},{\"attributes\":{\"num_minor_ticks\":5,\"tickers\":[{\"id\":\"2086\"},{\"id\":\"2087\"},{\"id\":\"2088\"},{\"id\":\"2089\"},{\"id\":\"2090\"},{\"id\":\"2091\"},{\"id\":\"2092\"},{\"id\":\"2093\"},{\"id\":\"2094\"},{\"id\":\"2095\"},{\"id\":\"2096\"},{\"id\":\"2097\"}]},\"id\":\"2042\",\"type\":\"DatetimeTicker\"},{\"attributes\":{\"days\":[1,15]},\"id\":\"2092\",\"type\":\"DaysTicker\"},{\"attributes\":{\"line_alpha\":0.1,\"line_color\":\"#30a2da\",\"line_width\":2,\"x\":{\"field\":\"time\"},\"y\":{\"field\":\"daily_returns\"}},\"id\":\"2066\",\"type\":\"Line\"},{\"attributes\":{},\"id\":\"2084\",\"type\":\"UnionRenderers\"},{\"attributes\":{\"months\":[0,1,2,3,4,5,6,7,8,9,10,11]},\"id\":\"2093\",\"type\":\"MonthsTicker\"},{\"attributes\":{\"axis\":{\"id\":\"2041\"},\"grid_line_color\":null,\"ticker\":null},\"id\":\"2044\",\"type\":\"Grid\"},{\"attributes\":{\"base\":24,\"mantissas\":[1,2,4,6,8,12],\"max_interval\":43200000.0,\"min_interval\":3600000.0,\"num_minor_ticks\":0},\"id\":\"2088\",\"type\":\"AdaptiveTicker\"},{\"attributes\":{\"axis\":{\"id\":\"2045\"},\"dimension\":1,\"grid_line_color\":null,\"ticker\":null},\"id\":\"2048\",\"type\":\"Grid\"},{\"attributes\":{\"axis_label\":\"Cumulative Daily Return (%)\",\"formatter\":{\"id\":\"2076\"},\"major_label_policy\":{\"id\":\"2074\"},\"ticker\":{\"id\":\"2046\"}},\"id\":\"2045\",\"type\":\"LinearAxis\"},{\"attributes\":{\"base\":60,\"mantissas\":[1,2,5,10,15,20,30],\"max_interval\":1800000.0,\"min_interval\":1000.0,\"num_minor_ticks\":0},\"id\":\"2087\",\"type\":\"AdaptiveTicker\"},{\"attributes\":{\"months\":[0,2,4,6,8,10]},\"id\":\"2094\",\"type\":\"MonthsTicker\"},{\"attributes\":{\"data_source\":{\"id\":\"2062\"},\"glyph\":{\"id\":\"2065\"},\"hover_glyph\":null,\"muted_glyph\":{\"id\":\"2067\"},\"nonselection_glyph\":{\"id\":\"2066\"},\"selection_glyph\":{\"id\":\"2070\"},\"view\":{\"id\":\"2069\"}},\"id\":\"2068\",\"type\":\"GlyphRenderer\"},{\"attributes\":{\"below\":[{\"id\":\"2041\"}],\"center\":[{\"id\":\"2044\"},{\"id\":\"2048\"}],\"height\":400,\"left\":[{\"id\":\"2045\"}],\"margin\":[5,5,5,5],\"min_border_bottom\":10,\"min_border_left\":10,\"min_border_right\":10,\"min_border_top\":10,\"renderers\":[{\"id\":\"2068\"}],\"sizing_mode\":\"stretch_width\",\"title\":{\"id\":\"2033\"},\"toolbar\":{\"id\":\"2055\"},\"width\":null,\"x_range\":{\"id\":\"2029\"},\"x_scale\":{\"id\":\"2037\"},\"y_range\":{\"id\":\"2030\"},\"y_scale\":{\"id\":\"2039\"}},\"id\":\"2032\",\"subtype\":\"Figure\",\"type\":\"Plot\"},{\"attributes\":{\"days\":[1,2,3,4,5,6,7,8,9,10,11,12,13,14,15,16,17,18,19,20,21,22,23,24,25,26,27,28,29,30,31]},\"id\":\"2089\",\"type\":\"DaysTicker\"},{\"attributes\":{\"line_color\":\"#30a2da\",\"line_width\":2,\"x\":{\"field\":\"time\"},\"y\":{\"field\":\"daily_returns\"}},\"id\":\"2070\",\"type\":\"Line\"},{\"attributes\":{\"months\":[0,6]},\"id\":\"2096\",\"type\":\"MonthsTicker\"},{\"attributes\":{\"active_multi\":null,\"tools\":[{\"id\":\"2031\"},{\"id\":\"2049\"},{\"id\":\"2050\"},{\"id\":\"2051\"},{\"id\":\"2052\"},{\"id\":\"2053\"}]},\"id\":\"2055\",\"type\":\"Toolbar\"},{\"attributes\":{\"end\":1607040000000.0,\"reset_end\":1607040000000.0,\"reset_start\":1481846400000.0,\"start\":1481846400000.0,\"tags\":[[[\"time\",\"time\",null]]]},\"id\":\"2029\",\"type\":\"Range1d\"},{\"attributes\":{},\"id\":\"2074\",\"type\":\"AllLabels\"},{\"attributes\":{},\"id\":\"2097\",\"type\":\"YearsTicker\"},{\"attributes\":{\"children\":[{\"id\":\"2032\"}],\"margin\":[0,0,0,0],\"name\":\"Row02511\",\"tags\":[\"embedded\"]},\"id\":\"2027\",\"type\":\"Row\"},{\"attributes\":{\"axis_label\":\"Date\",\"formatter\":{\"id\":\"2073\"},\"major_label_orientation\":0.7853981633974483,\"major_label_policy\":{\"id\":\"2071\"},\"ticker\":{\"id\":\"2042\"}},\"id\":\"2041\",\"type\":\"DatetimeAxis\"},{\"attributes\":{},\"id\":\"2049\",\"type\":\"SaveTool\"},{\"attributes\":{\"line_color\":\"#30a2da\",\"line_width\":2,\"x\":{\"field\":\"time\"},\"y\":{\"field\":\"daily_returns\"}},\"id\":\"2065\",\"type\":\"Line\"},{\"attributes\":{},\"id\":\"2050\",\"type\":\"PanTool\"},{\"attributes\":{\"callback\":null,\"formatters\":{\"@{time}\":\"datetime\"},\"renderers\":[{\"id\":\"2068\"}],\"tags\":[\"hv_created\"],\"tooltips\":[[\"time\",\"@{time}{%F %T}\"],[\"daily_returns\",\"@{daily_returns}\"]]},\"id\":\"2031\",\"type\":\"HoverTool\"},{\"attributes\":{},\"id\":\"2051\",\"type\":\"WheelZoomTool\"},{\"attributes\":{},\"id\":\"2037\",\"type\":\"LinearScale\"},{\"attributes\":{},\"id\":\"2071\",\"type\":\"AllLabels\"},{\"attributes\":{\"overlay\":{\"id\":\"2054\"}},\"id\":\"2052\",\"type\":\"BoxZoomTool\"},{\"attributes\":{},\"id\":\"2063\",\"type\":\"Selection\"},{\"attributes\":{\"source\":{\"id\":\"2062\"}},\"id\":\"2069\",\"type\":\"CDSView\"},{\"attributes\":{\"data\":{\"daily_returns\":{\"__ndarray__\":\"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\",\"dtype\":\"float64\",\"order\":\"little\",\"shape\":[999]},\"time\":{\"__ndarray__\":\"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\",\"dtype\":\"float64\",\"order\":\"little\",\"shape\":[999]}},\"selected\":{\"id\":\"2063\"},\"selection_policy\":{\"id\":\"2084\"}},\"id\":\"2062\",\"type\":\"ColumnDataSource\"},{\"attributes\":{},\"id\":\"2073\",\"type\":\"DatetimeTickFormatter\"},{\"attributes\":{\"end\":188.45698049692768,\"reset_end\":188.45698049692768,\"reset_start\":-15.584947861544453,\"start\":-15.584947861544453,\"tags\":[[[\"daily_returns\",\"daily_returns\",null]]]},\"id\":\"2030\",\"type\":\"Range1d\"},{\"attributes\":{},\"id\":\"2053\",\"type\":\"ResetTool\"}],\"root_ids\":[\"2027\"]},\"title\":\"Bokeh Application\",\"version\":\"2.3.2\"}};\n",
       "    var render_items = [{\"docid\":\"8387e243-a8ca-4ad8-9fee-52c444a11452\",\"root_ids\":[\"2027\"],\"roots\":{\"2027\":\"647ab713-8a3c-4db9-90b4-7562d43b7386\"}}];\n",
       "    root.Bokeh.embed.embed_items_notebook(docs_json, render_items);\n",
       "  }\n",
       "  if (root.Bokeh !== undefined && root.Bokeh.Panel !== undefined) {\n",
       "    embed_document(root);\n",
       "  } else {\n",
       "    var attempts = 0;\n",
       "    var timer = setInterval(function(root) {\n",
       "      if (root.Bokeh !== undefined && root.Bokeh.Panel !== undefined) {\n",
       "        clearInterval(timer);\n",
       "        embed_document(root);\n",
       "      } else if (document.readyState == \"complete\") {\n",
       "        attempts++;\n",
       "        if (attempts > 200) {\n",
       "          clearInterval(timer);\n",
       "          console.log(\"Bokeh: ERROR: Unable to run BokehJS code because BokehJS library is missing\");\n",
       "        }\n",
       "      }\n",
       "    }, 25, root)\n",
       "  }\n",
       "})(window);</script>"
      ],
      "text/plain": [
       ":Curve   [time]   (daily_returns)"
      ]
     },
     "execution_count": 33,
     "metadata": {
      "application/vnd.holoviews_exec.v0+json": {
       "id": "2027"
      }
     },
     "output_type": "execute_result"
    }
   ],
   "source": [
    "# Using hvplot, create an interactive line plot that visualizes the ETF portfolios cumulative return values.\n",
    "(etf_cumulative_returns * 100).hvplot.line(\n",
    "    rot=45,\n",
    "    xlabel=\"Date\",\n",
    "    ylabel=\"Cumulative Daily Return (%)\",\n",
    "    title=\"ETF Portfolio Cumulative Daily Returns\" ,\n",
    "    responsive=True,\n",
    "    height=400,\n",
    ")"
   ]
  },
  {
   "cell_type": "code",
   "execution_count": null,
   "metadata": {},
   "outputs": [],
   "source": []
  }
 ],
 "metadata": {
  "kernelspec": {
   "display_name": "dev",
   "language": "python",
   "name": "dev"
  },
  "language_info": {
   "codemirror_mode": {
    "name": "ipython",
    "version": 3
   },
   "file_extension": ".py",
   "mimetype": "text/x-python",
   "name": "python",
   "nbconvert_exporter": "python",
   "pygments_lexer": "ipython3",
   "version": "3.7.10"
  }
 },
 "nbformat": 4,
 "nbformat_minor": 4
}
